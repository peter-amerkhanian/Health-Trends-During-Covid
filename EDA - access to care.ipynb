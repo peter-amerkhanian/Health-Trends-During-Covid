{
 "cells": [
  {
   "cell_type": "code",
   "execution_count": 26,
   "id": "fd616129",
   "metadata": {},
   "outputs": [],
   "source": [
    "import pandas as pd\n",
    "import numpy as np\n",
    "import matplotlib.pyplot as plt\n",
    "import seaborn as sns\n",
    "sns.set_theme()\n",
    "import plotly.express as px"
   ]
  },
  {
   "cell_type": "markdown",
   "id": "32b395a8",
   "metadata": {},
   "source": [
    "# Exploratory Analysis - \"Access to Care\"\n",
    "`nchs_covid_mental_health_care.csv` contains survey estimates of responses to questions that ask if participants have accessed mental health care in the past 4 weeks."
   ]
  },
  {
   "cell_type": "code",
   "execution_count": 27,
   "id": "20fdde68",
   "metadata": {},
   "outputs": [],
   "source": [
    "df = pd.read_csv(\"nchs_covid_reduced_access_to_health_care.csv\")"
   ]
  },
  {
   "cell_type": "code",
   "execution_count": 28,
   "id": "e38fd445",
   "metadata": {},
   "outputs": [
    {
     "data": {
      "text/html": [
       "<div>\n",
       "<style scoped>\n",
       "    .dataframe tbody tr th:only-of-type {\n",
       "        vertical-align: middle;\n",
       "    }\n",
       "\n",
       "    .dataframe tbody tr th {\n",
       "        vertical-align: top;\n",
       "    }\n",
       "\n",
       "    .dataframe thead th {\n",
       "        text-align: right;\n",
       "    }\n",
       "</style>\n",
       "<table border=\"1\" class=\"dataframe\">\n",
       "  <thead>\n",
       "    <tr style=\"text-align: right;\">\n",
       "      <th></th>\n",
       "      <th>Indicator</th>\n",
       "      <th>Group</th>\n",
       "      <th>State</th>\n",
       "      <th>Subgroup</th>\n",
       "      <th>Phase</th>\n",
       "      <th>Time Period</th>\n",
       "      <th>Time Period Label</th>\n",
       "      <th>Time Period Start Date</th>\n",
       "      <th>Time Period End Date</th>\n",
       "      <th>Value</th>\n",
       "      <th>Low CI</th>\n",
       "      <th>High CI</th>\n",
       "      <th>Confidence Interval</th>\n",
       "      <th>Quartile Range</th>\n",
       "    </tr>\n",
       "  </thead>\n",
       "  <tbody>\n",
       "    <tr>\n",
       "      <th>0</th>\n",
       "      <td>Delayed Medical Care, Last 4 Weeks</td>\n",
       "      <td>National Estimate</td>\n",
       "      <td>United States</td>\n",
       "      <td>United States</td>\n",
       "      <td>1</td>\n",
       "      <td>1</td>\n",
       "      <td>Apr 23 - May 5</td>\n",
       "      <td>04/23/2020</td>\n",
       "      <td>05/05/2020</td>\n",
       "      <td>38.7</td>\n",
       "      <td>38.1</td>\n",
       "      <td>39.4</td>\n",
       "      <td>38.1 - 39.4</td>\n",
       "      <td>NaN</td>\n",
       "    </tr>\n",
       "    <tr>\n",
       "      <th>1</th>\n",
       "      <td>Delayed Medical Care, Last 4 Weeks</td>\n",
       "      <td>By Age</td>\n",
       "      <td>United States</td>\n",
       "      <td>18 - 29 years</td>\n",
       "      <td>1</td>\n",
       "      <td>1</td>\n",
       "      <td>Apr 23 - May 5</td>\n",
       "      <td>04/23/2020</td>\n",
       "      <td>05/05/2020</td>\n",
       "      <td>34.8</td>\n",
       "      <td>32.5</td>\n",
       "      <td>37.2</td>\n",
       "      <td>32.5 - 37.2</td>\n",
       "      <td>NaN</td>\n",
       "    </tr>\n",
       "    <tr>\n",
       "      <th>2</th>\n",
       "      <td>Delayed Medical Care, Last 4 Weeks</td>\n",
       "      <td>By Age</td>\n",
       "      <td>United States</td>\n",
       "      <td>30 - 39 years</td>\n",
       "      <td>1</td>\n",
       "      <td>1</td>\n",
       "      <td>Apr 23 - May 5</td>\n",
       "      <td>04/23/2020</td>\n",
       "      <td>05/05/2020</td>\n",
       "      <td>37.3</td>\n",
       "      <td>35.6</td>\n",
       "      <td>39.0</td>\n",
       "      <td>35.6 - 39.0</td>\n",
       "      <td>NaN</td>\n",
       "    </tr>\n",
       "  </tbody>\n",
       "</table>\n",
       "</div>"
      ],
      "text/plain": [
       "                            Indicator              Group          State  \\\n",
       "0  Delayed Medical Care, Last 4 Weeks  National Estimate  United States   \n",
       "1  Delayed Medical Care, Last 4 Weeks             By Age  United States   \n",
       "2  Delayed Medical Care, Last 4 Weeks             By Age  United States   \n",
       "\n",
       "        Subgroup Phase  Time Period Time Period Label Time Period Start Date  \\\n",
       "0  United States     1            1    Apr 23 - May 5             04/23/2020   \n",
       "1  18 - 29 years     1            1    Apr 23 - May 5             04/23/2020   \n",
       "2  30 - 39 years     1            1    Apr 23 - May 5             04/23/2020   \n",
       "\n",
       "  Time Period End Date  Value  Low CI  High CI Confidence Interval  \\\n",
       "0           05/05/2020   38.7    38.1     39.4         38.1 - 39.4   \n",
       "1           05/05/2020   34.8    32.5     37.2         32.5 - 37.2   \n",
       "2           05/05/2020   37.3    35.6     39.0         35.6 - 39.0   \n",
       "\n",
       "  Quartile Range  \n",
       "0            NaN  \n",
       "1            NaN  \n",
       "2            NaN  "
      ]
     },
     "execution_count": 28,
     "metadata": {},
     "output_type": "execute_result"
    }
   ],
   "source": [
    "df.head(3)"
   ]
  },
  {
   "cell_type": "markdown",
   "id": "254f2c4e",
   "metadata": {},
   "source": [
    "### Granularity:\n",
    "It should be noted that each row in the dataset represents the results of a finite survey period for a given group and subgroup"
   ]
  },
  {
   "cell_type": "code",
   "execution_count": null,
   "id": "2eeb52b5",
   "metadata": {},
   "outputs": [],
   "source": [
    "We can see that each time period has roughly"
   ]
  },
  {
   "cell_type": "markdown",
   "id": "ee547f6a",
   "metadata": {},
   "source": [
    "In our broader Analysis, Indicator will be our dependent variable.  \n",
    "Here is a frequency table of its values:"
   ]
  },
  {
   "cell_type": "code",
   "execution_count": 29,
   "id": "a769e729",
   "metadata": {},
   "outputs": [
    {
     "data": {
      "text/plain": [
       "Delayed or Did Not Get Care, Last 4 Weeks    2379\n",
       "Delayed Medical Care, Last 4 Weeks           2379\n",
       "Did Not Get Needed Care, Last 4 Weeks        2360\n",
       "Name: Indicator, dtype: int64"
      ]
     },
     "execution_count": 29,
     "metadata": {},
     "output_type": "execute_result"
    }
   ],
   "source": [
    "df[\"Indicator\"].value_counts()"
   ]
  },
  {
   "cell_type": "markdown",
   "id": "ea04908d",
   "metadata": {},
   "source": [
    "### Groups:\n",
    "These are the major groupings with number of rows"
   ]
  },
  {
   "cell_type": "code",
   "execution_count": 30,
   "id": "609b4045",
   "metadata": {},
   "outputs": [
    {
     "data": {
      "text/plain": [
       "By State                      5049\n",
       "By Age                         749\n",
       "By Race/Hispanic ethnicity     535\n",
       "By Education                   428\n",
       "By Sex                         214\n",
       "National Estimate              107\n",
       "By Disability status            36\n",
       "Name: Group, dtype: int64"
      ]
     },
     "execution_count": 30,
     "metadata": {},
     "output_type": "execute_result"
    }
   ],
   "source": [
    "df[\"Group\"].value_counts()"
   ]
  },
  {
   "cell_type": "markdown",
   "id": "e0d049a8",
   "metadata": {},
   "source": [
    "These are the first 20 rows of a dataset that shows groups with their subgroups along with row count"
   ]
  },
  {
   "cell_type": "code",
   "execution_count": 61,
   "id": "4b282a79",
   "metadata": {},
   "outputs": [
    {
     "data": {
      "text/html": [
       "<div>\n",
       "<style scoped>\n",
       "    .dataframe tbody tr th:only-of-type {\n",
       "        vertical-align: middle;\n",
       "    }\n",
       "\n",
       "    .dataframe tbody tr th {\n",
       "        vertical-align: top;\n",
       "    }\n",
       "\n",
       "    .dataframe thead th {\n",
       "        text-align: right;\n",
       "    }\n",
       "</style>\n",
       "<table border=\"1\" class=\"dataframe\">\n",
       "  <thead>\n",
       "    <tr style=\"text-align: right;\">\n",
       "      <th></th>\n",
       "      <th></th>\n",
       "      <th>Indicator</th>\n",
       "    </tr>\n",
       "    <tr>\n",
       "      <th>Group</th>\n",
       "      <th>Subgroup</th>\n",
       "      <th></th>\n",
       "    </tr>\n",
       "  </thead>\n",
       "  <tbody>\n",
       "    <tr>\n",
       "      <th rowspan=\"7\" valign=\"top\">By Age</th>\n",
       "      <th>18 - 29 years</th>\n",
       "      <td>107</td>\n",
       "    </tr>\n",
       "    <tr>\n",
       "      <th>30 - 39 years</th>\n",
       "      <td>107</td>\n",
       "    </tr>\n",
       "    <tr>\n",
       "      <th>40 - 49 years</th>\n",
       "      <td>107</td>\n",
       "    </tr>\n",
       "    <tr>\n",
       "      <th>50 - 59 years</th>\n",
       "      <td>107</td>\n",
       "    </tr>\n",
       "    <tr>\n",
       "      <th>60 - 69 years</th>\n",
       "      <td>107</td>\n",
       "    </tr>\n",
       "    <tr>\n",
       "      <th>70 - 79 years</th>\n",
       "      <td>107</td>\n",
       "    </tr>\n",
       "    <tr>\n",
       "      <th>80 years and above</th>\n",
       "      <td>107</td>\n",
       "    </tr>\n",
       "    <tr>\n",
       "      <th rowspan=\"2\" valign=\"top\">By Disability status</th>\n",
       "      <th>With disability</th>\n",
       "      <td>18</td>\n",
       "    </tr>\n",
       "    <tr>\n",
       "      <th>Without disability</th>\n",
       "      <td>18</td>\n",
       "    </tr>\n",
       "    <tr>\n",
       "      <th rowspan=\"4\" valign=\"top\">By Education</th>\n",
       "      <th>Bachelor's degree or higher</th>\n",
       "      <td>107</td>\n",
       "    </tr>\n",
       "    <tr>\n",
       "      <th>High school diploma or GED</th>\n",
       "      <td>107</td>\n",
       "    </tr>\n",
       "    <tr>\n",
       "      <th>Less than a high school diploma</th>\n",
       "      <td>107</td>\n",
       "    </tr>\n",
       "    <tr>\n",
       "      <th>Some college/Associate's degree</th>\n",
       "      <td>107</td>\n",
       "    </tr>\n",
       "    <tr>\n",
       "      <th rowspan=\"5\" valign=\"top\">By Race/Hispanic ethnicity</th>\n",
       "      <th>Hispanic or Latino</th>\n",
       "      <td>107</td>\n",
       "    </tr>\n",
       "    <tr>\n",
       "      <th>Non-Hispanic Asian, single race</th>\n",
       "      <td>107</td>\n",
       "    </tr>\n",
       "    <tr>\n",
       "      <th>Non-Hispanic Black, single race</th>\n",
       "      <td>107</td>\n",
       "    </tr>\n",
       "    <tr>\n",
       "      <th>Non-Hispanic White, single race</th>\n",
       "      <td>107</td>\n",
       "    </tr>\n",
       "    <tr>\n",
       "      <th>Non-Hispanic, other races and multiple races</th>\n",
       "      <td>107</td>\n",
       "    </tr>\n",
       "    <tr>\n",
       "      <th rowspan=\"2\" valign=\"top\">By Sex</th>\n",
       "      <th>Female</th>\n",
       "      <td>107</td>\n",
       "    </tr>\n",
       "    <tr>\n",
       "      <th>Male</th>\n",
       "      <td>107</td>\n",
       "    </tr>\n",
       "  </tbody>\n",
       "</table>\n",
       "</div>"
      ],
      "text/plain": [
       "                                                                         Indicator\n",
       "Group                      Subgroup                                               \n",
       "By Age                     18 - 29 years                                       107\n",
       "                           30 - 39 years                                       107\n",
       "                           40 - 49 years                                       107\n",
       "                           50 - 59 years                                       107\n",
       "                           60 - 69 years                                       107\n",
       "                           70 - 79 years                                       107\n",
       "                           80 years and above                                  107\n",
       "By Disability status       With disability                                      18\n",
       "                           Without disability                                   18\n",
       "By Education               Bachelor's degree or higher                         107\n",
       "                           High school diploma or GED                          107\n",
       "                           Less than a high school diploma                     107\n",
       "                           Some college/Associate's degree                     107\n",
       "By Race/Hispanic ethnicity Hispanic or Latino                                  107\n",
       "                           Non-Hispanic Asian, single race                     107\n",
       "                           Non-Hispanic Black, single race                     107\n",
       "                           Non-Hispanic White, single race                     107\n",
       "                           Non-Hispanic, other races and multiple races        107\n",
       "By Sex                     Female                                              107\n",
       "                           Male                                                107"
      ]
     },
     "execution_count": 61,
     "metadata": {},
     "output_type": "execute_result"
    }
   ],
   "source": [
    "df.groupby([\"Group\", \"Subgroup\"]).count().iloc[:20, :1]"
   ]
  },
  {
   "cell_type": "markdown",
   "id": "89222eab",
   "metadata": {},
   "source": [
    "### Time Periods:\n",
    "Each time period is roughly two weeks, and they typically each have 210 values representing the response values for some group/subgroup - but it should be noted that some response periods have less than 210 values..."
   ]
  },
  {
   "cell_type": "code",
   "execution_count": 67,
   "id": "1d1fff5c",
   "metadata": {},
   "outputs": [],
   "source": [
    "df[\"Time Period End Date\"] = df[\"Time Period End Date\"].apply(pd.to_datetime)"
   ]
  },
  {
   "cell_type": "code",
   "execution_count": 68,
   "id": "17a3f88c",
   "metadata": {},
   "outputs": [
    {
     "data": {
      "text/html": [
       "<div>\n",
       "<style scoped>\n",
       "    .dataframe tbody tr th:only-of-type {\n",
       "        vertical-align: middle;\n",
       "    }\n",
       "\n",
       "    .dataframe tbody tr th {\n",
       "        vertical-align: top;\n",
       "    }\n",
       "\n",
       "    .dataframe thead th {\n",
       "        text-align: right;\n",
       "    }\n",
       "</style>\n",
       "<table border=\"1\" class=\"dataframe\">\n",
       "  <thead>\n",
       "    <tr style=\"text-align: right;\">\n",
       "      <th></th>\n",
       "      <th></th>\n",
       "      <th>Values</th>\n",
       "    </tr>\n",
       "    <tr>\n",
       "      <th>Time Period End Date</th>\n",
       "      <th>Time Period Label</th>\n",
       "      <th></th>\n",
       "    </tr>\n",
       "  </thead>\n",
       "  <tbody>\n",
       "    <tr>\n",
       "      <th>2020-05-05</th>\n",
       "      <th>Apr 23 - May 5</th>\n",
       "      <td>210</td>\n",
       "    </tr>\n",
       "    <tr>\n",
       "      <th>2020-05-12</th>\n",
       "      <th>May 7 - May 12</th>\n",
       "      <td>210</td>\n",
       "    </tr>\n",
       "    <tr>\n",
       "      <th>2020-05-19</th>\n",
       "      <th>May 14 - May 19</th>\n",
       "      <td>210</td>\n",
       "    </tr>\n",
       "    <tr>\n",
       "      <th>2020-05-26</th>\n",
       "      <th>May 21 - May 26</th>\n",
       "      <td>210</td>\n",
       "    </tr>\n",
       "    <tr>\n",
       "      <th>2020-06-02</th>\n",
       "      <th>May 28 - June 2</th>\n",
       "      <td>210</td>\n",
       "    </tr>\n",
       "    <tr>\n",
       "      <th>2020-06-09</th>\n",
       "      <th>June 4 - June 9</th>\n",
       "      <td>210</td>\n",
       "    </tr>\n",
       "    <tr>\n",
       "      <th>2020-06-16</th>\n",
       "      <th>June 11 - June 16</th>\n",
       "      <td>210</td>\n",
       "    </tr>\n",
       "    <tr>\n",
       "      <th>2020-06-23</th>\n",
       "      <th>June 18 - June 23</th>\n",
       "      <td>210</td>\n",
       "    </tr>\n",
       "    <tr>\n",
       "      <th>2020-06-30</th>\n",
       "      <th>June 25 - June 30</th>\n",
       "      <td>210</td>\n",
       "    </tr>\n",
       "    <tr>\n",
       "      <th>2020-07-07</th>\n",
       "      <th>July 2 - July 7</th>\n",
       "      <td>210</td>\n",
       "    </tr>\n",
       "    <tr>\n",
       "      <th>2020-07-14</th>\n",
       "      <th>July 9 - July 14</th>\n",
       "      <td>210</td>\n",
       "    </tr>\n",
       "    <tr>\n",
       "      <th>2020-07-21</th>\n",
       "      <th>July 16 - July 21</th>\n",
       "      <td>210</td>\n",
       "    </tr>\n",
       "    <tr>\n",
       "      <th>2020-08-18</th>\n",
       "      <th>July 22 - Aug 18</th>\n",
       "      <td>57</td>\n",
       "    </tr>\n",
       "    <tr>\n",
       "      <th>2020-08-31</th>\n",
       "      <th>Aug 19 - Aug 31</th>\n",
       "      <td>210</td>\n",
       "    </tr>\n",
       "    <tr>\n",
       "      <th>2020-09-14</th>\n",
       "      <th>Sep 2 - Sep 14</th>\n",
       "      <td>210</td>\n",
       "    </tr>\n",
       "    <tr>\n",
       "      <th>2020-09-28</th>\n",
       "      <th>Sep 16 - Sep 28</th>\n",
       "      <td>210</td>\n",
       "    </tr>\n",
       "    <tr>\n",
       "      <th>2020-10-12</th>\n",
       "      <th>Sep 30 - Oct 12</th>\n",
       "      <td>210</td>\n",
       "    </tr>\n",
       "    <tr>\n",
       "      <th>2020-10-26</th>\n",
       "      <th>Oct 14 - Oct 26</th>\n",
       "      <td>210</td>\n",
       "    </tr>\n",
       "    <tr>\n",
       "      <th>2020-11-09</th>\n",
       "      <th>Oct 28 - Nov 9</th>\n",
       "      <td>210</td>\n",
       "    </tr>\n",
       "    <tr>\n",
       "      <th>2020-11-23</th>\n",
       "      <th>Nov 11 - Nov 23</th>\n",
       "      <td>210</td>\n",
       "    </tr>\n",
       "  </tbody>\n",
       "</table>\n",
       "</div>"
      ],
      "text/plain": [
       "                                        Values\n",
       "Time Period End Date Time Period Label        \n",
       "2020-05-05           Apr 23 - May 5        210\n",
       "2020-05-12           May 7 - May 12        210\n",
       "2020-05-19           May 14 - May 19       210\n",
       "2020-05-26           May 21 - May 26       210\n",
       "2020-06-02           May 28 - June 2       210\n",
       "2020-06-09           June 4 - June 9       210\n",
       "2020-06-16           June 11 - June 16     210\n",
       "2020-06-23           June 18 - June 23     210\n",
       "2020-06-30           June 25 - June 30     210\n",
       "2020-07-07           July 2 - July 7       210\n",
       "2020-07-14           July 9 - July 14      210\n",
       "2020-07-21           July 16 - July 21     210\n",
       "2020-08-18           July 22 - Aug 18       57\n",
       "2020-08-31           Aug 19 - Aug 31       210\n",
       "2020-09-14           Sep 2 - Sep 14        210\n",
       "2020-09-28           Sep 16 - Sep 28       210\n",
       "2020-10-12           Sep 30 - Oct 12       210\n",
       "2020-10-26           Oct 14 - Oct 26       210\n",
       "2020-11-09           Oct 28 - Nov 9        210\n",
       "2020-11-23           Nov 11 - Nov 23       210"
      ]
     },
     "execution_count": 68,
     "metadata": {},
     "output_type": "execute_result"
    }
   ],
   "source": [
    "(df\n",
    " .groupby([\"Time Period End Date\", \"Time Period Label\"])\n",
    " .count()\n",
    " .iloc[:, :1]\n",
    " .sort_index()\n",
    " .rename(columns={\"Indicator\": \"Values\"})\n",
    " .head(20))"
   ]
  },
  {
   "cell_type": "markdown",
   "id": "004ad915",
   "metadata": {},
   "source": [
    "### General Time Trend"
   ]
  },
  {
   "cell_type": "code",
   "execution_count": 69,
   "id": "76efe57c",
   "metadata": {},
   "outputs": [],
   "source": [
    "df_nat = df.query(\"Group == 'National Estimate'\")"
   ]
  },
  {
   "cell_type": "code",
   "execution_count": 73,
   "id": "6af36ff1",
   "metadata": {},
   "outputs": [
    {
     "data": {
      "image/png": "[encoded data removed]",
      "text/plain": [
       "<Figure size 864x432 with 1 Axes>"
      ]
     },
     "metadata": {},
     "output_type": "display_data"
    }
   ],
   "source": [
    "plt.figure(figsize=(12, 6))\n",
    "sns.lineplot(data=df_nat, x=\"Time Period End Date\", y=\"Value\", hue=\"Indicator\")\n",
    "plt.title(\"National Trend\").set_fontsize(18);"
   ]
  },
  {
   "cell_type": "code",
   "execution_count": 84,
   "id": "9f7e67af",
   "metadata": {},
   "outputs": [
    {
     "data": {
      "application/vnd.plotly.v1+json": {
       "config": {
        "plotlyServerURL": "https://plot.ly"
       },
       "data": [
        {
         "hovertemplate": "Indicator=Delayed Medical Care, Last 4 Weeks<br>Time Period End Date=%{x}<br>Value=%{y}<extra></extra>",
         "legendgroup": "Delayed Medical Care, Last 4 Weeks",
         "line": {
          "color": "#636efa",
          "dash": "solid"
         },
         "marker": {
          "symbol": "circle"
         },
         "mode": "lines",
         "name": "Delayed Medical Care, Last 4 Weeks",
         "orientation": "v",
         "showlegend": true,
         "type": "scatter",
         "x": [
          "2020-05-05T00:00:00",
          "2020-05-12T00:00:00",
          "2020-05-19T00:00:00",
          "2020-05-26T00:00:00",
          "2020-06-02T00:00:00",
          "2020-06-09T00:00:00",
          "2020-06-16T00:00:00",
          "2020-06-23T00:00:00",
          "2020-06-30T00:00:00",
          "2020-07-07T00:00:00",
          "2020-07-14T00:00:00",
          "2020-07-21T00:00:00",
          "2020-08-18T00:00:00",
          "2020-08-31T00:00:00",
          "2020-09-14T00:00:00",
          "2020-09-28T00:00:00",
          "2020-10-12T00:00:00",
          "2020-10-26T00:00:00",
          "2020-11-09T00:00:00",
          "2020-11-23T00:00:00",
          "2020-12-07T00:00:00",
          "2020-12-21T00:00:00",
          "2021-01-05T00:00:00",
          "2021-01-18T00:00:00",
          "2021-02-01T00:00:00",
          "2021-02-15T00:00:00",
          "2021-03-01T00:00:00",
          "2021-03-15T00:00:00",
          "2021-03-29T00:00:00",
          "2021-04-13T00:00:00",
          "2021-04-26T00:00:00",
          "2021-05-10T00:00:00",
          "2021-05-24T00:00:00",
          "2021-06-07T00:00:00",
          "2021-06-21T00:00:00",
          "2021-07-05T00:00:00"
         ],
         "xaxis": "x",
         "y": [
          38.7,
          41.1,
          40.7,
          40.6,
          41.4,
          40.3,
          41,
          41.5,
          41.5,
          40.1,
          40.6,
          40.1,
          null,
          35,
          33.8,
          32.5,
          31.3,
          31.2,
          31.7,
          33.3,
          33.1,
          35.1,
          null,
          31.2,
          31.3,
          29.9,
          27.7,
          26.8,
          25,
          null,
          20.4,
          19.1,
          18.1,
          16.7,
          16.1,
          14.6
         ],
         "yaxis": "y"
        },
        {
         "hovertemplate": "Indicator=Did Not Get Needed Care, Last 4 Weeks<br>Time Period End Date=%{x}<br>Value=%{y}<extra></extra>",
         "legendgroup": "Did Not Get Needed Care, Last 4 Weeks",
         "line": {
          "color": "#EF553B",
          "dash": "solid"
         },
         "marker": {
          "symbol": "circle"
         },
         "mode": "lines",
         "name": "Did Not Get Needed Care, Last 4 Weeks",
         "orientation": "v",
         "showlegend": true,
         "type": "scatter",
         "x": [
          "2020-05-05T00:00:00",
          "2020-05-12T00:00:00",
          "2020-05-19T00:00:00",
          "2020-05-26T00:00:00",
          "2020-06-02T00:00:00",
          "2020-06-09T00:00:00",
          "2020-06-16T00:00:00",
          "2020-06-23T00:00:00",
          "2020-06-30T00:00:00",
          "2020-07-07T00:00:00",
          "2020-07-14T00:00:00",
          "2020-07-21T00:00:00",
          "2020-08-18T00:00:00",
          "2020-08-31T00:00:00",
          "2020-09-14T00:00:00",
          "2020-09-28T00:00:00",
          "2020-10-12T00:00:00",
          "2020-10-26T00:00:00",
          "2020-11-09T00:00:00",
          "2020-11-23T00:00:00",
          "2020-12-07T00:00:00",
          "2020-12-21T00:00:00",
          "2021-01-05T00:00:00",
          "2021-01-18T00:00:00",
          "2021-02-01T00:00:00",
          "2021-02-15T00:00:00",
          "2021-03-01T00:00:00",
          "2021-03-15T00:00:00",
          "2021-03-29T00:00:00",
          "2021-04-26T00:00:00",
          "2021-05-10T00:00:00",
          "2021-05-24T00:00:00",
          "2021-06-07T00:00:00",
          "2021-06-21T00:00:00",
          "2021-07-05T00:00:00"
         ],
         "xaxis": "x",
         "y": [
          31.7,
          33.5,
          32.8,
          32.9,
          33,
          32.4,
          32.2,
          32.7,
          32.4,
          32.3,
          32.5,
          31.8,
          null,
          25.5,
          24.7,
          23.8,
          23.5,
          23.5,
          24.2,
          24,
          25.2,
          26.6,
          null,
          23.4,
          23.7,
          22.4,
          21.3,
          19.9,
          19.3,
          16.4,
          15,
          14.6,
          13.7,
          13.3,
          12.9
         ],
         "yaxis": "y"
        },
        {
         "hovertemplate": "Indicator=Delayed or Did Not Get Care, Last 4 Weeks<br>Time Period End Date=%{x}<br>Value=%{y}<extra></extra>",
         "legendgroup": "Delayed or Did Not Get Care, Last 4 Weeks",
         "line": {
          "color": "#00cc96",
          "dash": "solid"
         },
         "marker": {
          "symbol": "circle"
         },
         "mode": "lines",
         "name": "Delayed or Did Not Get Care, Last 4 Weeks",
         "orientation": "v",
         "showlegend": true,
         "type": "scatter",
         "x": [
          "2020-05-05T00:00:00",
          "2020-05-12T00:00:00",
          "2020-05-19T00:00:00",
          "2020-05-26T00:00:00",
          "2020-06-02T00:00:00",
          "2020-06-09T00:00:00",
          "2020-06-16T00:00:00",
          "2020-06-23T00:00:00",
          "2020-06-30T00:00:00",
          "2020-07-07T00:00:00",
          "2020-07-14T00:00:00",
          "2020-07-21T00:00:00",
          "2020-08-18T00:00:00",
          "2020-08-31T00:00:00",
          "2020-09-14T00:00:00",
          "2020-09-28T00:00:00",
          "2020-10-12T00:00:00",
          "2020-10-26T00:00:00",
          "2020-11-09T00:00:00",
          "2020-11-23T00:00:00",
          "2020-12-07T00:00:00",
          "2020-12-21T00:00:00",
          "2021-01-05T00:00:00",
          "2021-01-18T00:00:00",
          "2021-02-01T00:00:00",
          "2021-02-15T00:00:00",
          "2021-03-01T00:00:00",
          "2021-03-15T00:00:00",
          "2021-03-29T00:00:00",
          "2021-04-13T00:00:00",
          "2021-04-26T00:00:00",
          "2021-05-10T00:00:00",
          "2021-05-24T00:00:00",
          "2021-06-07T00:00:00",
          "2021-06-21T00:00:00",
          "2021-07-05T00:00:00"
         ],
         "xaxis": "x",
         "y": [
          43.7,
          45.5,
          44.8,
          44.9,
          45.5,
          44.5,
          44.9,
          45.5,
          45.7,
          44.5,
          45.1,
          44.4,
          null,
          39.1,
          37.7,
          36.4,
          35.4,
          35.2,
          36,
          37,
          37.1,
          39.5,
          null,
          35.3,
          35.6,
          34.1,
          31.8,
          30.6,
          28.9,
          null,
          24,
          22.5,
          21.5,
          20.2,
          19.5,
          18.6
         ],
         "yaxis": "y"
        }
       ],
       "layout": {
        "legend": {
         "title": {
          "text": "Indicator"
         },
         "tracegroupgap": 0
        },
        "margin": {
         "t": 60
        },
        "template": {
         "data": {
          "bar": [
           {
            "error_x": {
             "color": "#2a3f5f"
            },
            "error_y": {
             "color": "#2a3f5f"
            },
            "marker": {
             "line": {
              "color": "#E5ECF6",
              "width": 0.5
             },
             "pattern": {
              "fillmode": "overlay",
              "size": 10,
              "solidity": 0.2
             }
            },
            "type": "bar"
           }
          ],
          "barpolar": [
           {
            "marker": {
             "line": {
              "color": "#E5ECF6",
              "width": 0.5
             },
             "pattern": {
              "fillmode": "overlay",
              "size": 10,
              "solidity": 0.2
             }
            },
            "type": "barpolar"
           }
          ],
          "carpet": [
           {
            "aaxis": {
             "endlinecolor": "#2a3f5f",
             "gridcolor": "white",
             "linecolor": "white",
             "minorgridcolor": "white",
             "startlinecolor": "#2a3f5f"
            },
            "baxis": {
             "endlinecolor": "#2a3f5f",
             "gridcolor": "white",
             "linecolor": "white",
             "minorgridcolor": "white",
             "startlinecolor": "#2a3f5f"
            },
            "type": "carpet"
           }
          ],
          "choropleth": [
           {
            "colorbar": {
             "outlinewidth": 0,
             "ticks": ""
            },
            "type": "choropleth"
           }
          ],
          "contour": [
           {
            "colorbar": {
             "outlinewidth": 0,
             "ticks": ""
            },
            "colorscale": [
             [
              0,
              "#0d0887"
             ],
             [
              0.1111111111111111,
              "#46039f"
             ],
             [
              0.2222222222222222,
              "#7201a8"
             ],
             [
              0.3333333333333333,
              "#9c179e"
             ],
             [
              0.4444444444444444,
              "#bd3786"
             ],
             [
              0.5555555555555556,
              "#d8576b"
             ],
             [
              0.6666666666666666,
              "#ed7953"
             ],
             [
              0.7777777777777778,
              "#fb9f3a"
             ],
             [
              0.8888888888888888,
              "#fdca26"
             ],
             [
              1,
              "#f0f921"
             ]
            ],
            "type": "contour"
           }
          ],
          "contourcarpet": [
           {
            "colorbar": {
             "outlinewidth": 0,
             "ticks": ""
            },
            "type": "contourcarpet"
           }
          ],
          "heatmap": [
           {
            "colorbar": {
             "outlinewidth": 0,
             "ticks": ""
            },
            "colorscale": [
             [
              0,
              "#0d0887"
             ],
             [
              0.1111111111111111,
              "#46039f"
             ],
             [
              0.2222222222222222,
              "#7201a8"
             ],
             [
              0.3333333333333333,
              "#9c179e"
             ],
             [
              0.4444444444444444,
              "#bd3786"
             ],
             [
              0.5555555555555556,
              "#d8576b"
             ],
             [
              0.6666666666666666,
              "#ed7953"
             ],
             [
              0.7777777777777778,
              "#fb9f3a"
             ],
             [
              0.8888888888888888,
              "#fdca26"
             ],
             [
              1,
              "#f0f921"
             ]
            ],
            "type": "heatmap"
           }
          ],
          "heatmapgl": [
           {
            "colorbar": {
             "outlinewidth": 0,
             "ticks": ""
            },
            "colorscale": [
             [
              0,
              "#0d0887"
             ],
             [
              0.1111111111111111,
              "#46039f"
             ],
             [
              0.2222222222222222,
              "#7201a8"
             ],
             [
              0.3333333333333333,
              "#9c179e"
             ],
             [
              0.4444444444444444,
              "#bd3786"
             ],
             [
              0.5555555555555556,
              "#d8576b"
             ],
             [
              0.6666666666666666,
              "#ed7953"
             ],
             [
              0.7777777777777778,
              "#fb9f3a"
             ],
             [
              0.8888888888888888,
              "#fdca26"
             ],
             [
              1,
              "#f0f921"
             ]
            ],
            "type": "heatmapgl"
           }
          ],
          "histogram": [
           {
            "marker": {
             "pattern": {
              "fillmode": "overlay",
              "size": 10,
              "solidity": 0.2
             }
            },
            "type": "histogram"
           }
          ],
          "histogram2d": [
           {
            "colorbar": {
             "outlinewidth": 0,
             "ticks": ""
            },
            "colorscale": [
             [
              0,
              "#0d0887"
             ],
             [
              0.1111111111111111,
              "#46039f"
             ],
             [
              0.2222222222222222,
              "#7201a8"
             ],
             [
              0.3333333333333333,
              "#9c179e"
             ],
             [
              0.4444444444444444,
              "#bd3786"
             ],
             [
              0.5555555555555556,
              "#d8576b"
             ],
             [
              0.6666666666666666,
              "#ed7953"
             ],
             [
              0.7777777777777778,
              "#fb9f3a"
             ],
             [
              0.8888888888888888,
              "#fdca26"
             ],
             [
              1,
              "#f0f921"
             ]
            ],
            "type": "histogram2d"
           }
          ],
          "histogram2dcontour": [
           {
            "colorbar": {
             "outlinewidth": 0,
             "ticks": ""
            },
            "colorscale": [
             [
              0,
              "#0d0887"
             ],
             [
              0.1111111111111111,
              "#46039f"
             ],
             [
              0.2222222222222222,
              "#7201a8"
             ],
             [
              0.3333333333333333,
              "#9c179e"
             ],
             [
              0.4444444444444444,
              "#bd3786"
             ],
             [
              0.5555555555555556,
              "#d8576b"
             ],
             [
              0.6666666666666666,
              "#ed7953"
             ],
             [
              0.7777777777777778,
              "#fb9f3a"
             ],
             [
              0.8888888888888888,
              "#fdca26"
             ],
             [
              1,
              "#f0f921"
             ]
            ],
            "type": "histogram2dcontour"
           }
          ],
          "mesh3d": [
           {
            "colorbar": {
             "outlinewidth": 0,
             "ticks": ""
            },
            "type": "mesh3d"
           }
          ],
          "parcoords": [
           {
            "line": {
             "colorbar": {
              "outlinewidth": 0,
              "ticks": ""
             }
            },
            "type": "parcoords"
           }
          ],
          "pie": [
           {
            "automargin": true,
            "type": "pie"
           }
          ],
          "scatter": [
           {
            "marker": {
             "colorbar": {
              "outlinewidth": 0,
              "ticks": ""
             }
            },
            "type": "scatter"
           }
          ],
          "scatter3d": [
           {
            "line": {
             "colorbar": {
              "outlinewidth": 0,
              "ticks": ""
             }
            },
            "marker": {
             "colorbar": {
              "outlinewidth": 0,
              "ticks": ""
             }
            },
            "type": "scatter3d"
           }
          ],
          "scattercarpet": [
           {
            "marker": {
             "colorbar": {
              "outlinewidth": 0,
              "ticks": ""
             }
            },
            "type": "scattercarpet"
           }
          ],
          "scattergeo": [
           {
            "marker": {
             "colorbar": {
              "outlinewidth": 0,
              "ticks": ""
             }
            },
            "type": "scattergeo"
           }
          ],
          "scattergl": [
           {
            "marker": {
             "colorbar": {
              "outlinewidth": 0,
              "ticks": ""
             }
            },
            "type": "scattergl"
           }
          ],
          "scattermapbox": [
           {
            "marker": {
             "colorbar": {
              "outlinewidth": 0,
              "ticks": ""
             }
            },
            "type": "scattermapbox"
           }
          ],
          "scatterpolar": [
           {
            "marker": {
             "colorbar": {
              "outlinewidth": 0,
              "ticks": ""
             }
            },
            "type": "scatterpolar"
           }
          ],
          "scatterpolargl": [
           {
            "marker": {
             "colorbar": {
              "outlinewidth": 0,
              "ticks": ""
             }
            },
            "type": "scatterpolargl"
           }
          ],
          "scatterternary": [
           {
            "marker": {
             "colorbar": {
              "outlinewidth": 0,
              "ticks": ""
             }
            },
            "type": "scatterternary"
           }
          ],
          "surface": [
           {
            "colorbar": {
             "outlinewidth": 0,
             "ticks": ""
            },
            "colorscale": [
             [
              0,
              "#0d0887"
             ],
             [
              0.1111111111111111,
              "#46039f"
             ],
             [
              0.2222222222222222,
              "#7201a8"
             ],
             [
              0.3333333333333333,
              "#9c179e"
             ],
             [
              0.4444444444444444,
              "#bd3786"
             ],
             [
              0.5555555555555556,
              "#d8576b"
             ],
             [
              0.6666666666666666,
              "#ed7953"
             ],
             [
              0.7777777777777778,
              "#fb9f3a"
             ],
             [
              0.8888888888888888,
              "#fdca26"
             ],
             [
              1,
              "#f0f921"
             ]
            ],
            "type": "surface"
           }
          ],
          "table": [
           {
            "cells": {
             "fill": {
              "color": "#EBF0F8"
             },
             "line": {
              "color": "white"
             }
            },
            "header": {
             "fill": {
              "color": "#C8D4E3"
             },
             "line": {
              "color": "white"
             }
            },
            "type": "table"
           }
          ]
         },
         "layout": {
          "annotationdefaults": {
           "arrowcolor": "#2a3f5f",
           "arrowhead": 0,
           "arrowwidth": 1
          },
          "autotypenumbers": "strict",
          "coloraxis": {
           "colorbar": {
            "outlinewidth": 0,
            "ticks": ""
           }
          },
          "colorscale": {
           "diverging": [
            [
             0,
             "#8e0152"
            ],
            [
             0.1,
             "#c51b7d"
            ],
            [
             0.2,
             "#de77ae"
            ],
            [
             0.3,
             "#f1b6da"
            ],
            [
             0.4,
             "#fde0ef"
            ],
            [
             0.5,
             "#f7f7f7"
            ],
            [
             0.6,
             "#e6f5d0"
            ],
            [
             0.7,
             "#b8e186"
            ],
            [
             0.8,
             "#7fbc41"
            ],
            [
             0.9,
             "#4d9221"
            ],
            [
             1,
             "#276419"
            ]
           ],
           "sequential": [
            [
             0,
             "#0d0887"
            ],
            [
             0.1111111111111111,
             "#46039f"
            ],
            [
             0.2222222222222222,
             "#7201a8"
            ],
            [
             0.3333333333333333,
             "#9c179e"
            ],
            [
             0.4444444444444444,
             "#bd3786"
            ],
            [
             0.5555555555555556,
             "#d8576b"
            ],
            [
             0.6666666666666666,
             "#ed7953"
            ],
            [
             0.7777777777777778,
             "#fb9f3a"
            ],
            [
             0.8888888888888888,
             "#fdca26"
            ],
            [
             1,
             "#f0f921"
            ]
           ],
           "sequentialminus": [
            [
             0,
             "#0d0887"
            ],
            [
             0.1111111111111111,
             "#46039f"
            ],
            [
             0.2222222222222222,
             "#7201a8"
            ],
            [
             0.3333333333333333,
             "#9c179e"
            ],
            [
             0.4444444444444444,
             "#bd3786"
            ],
            [
             0.5555555555555556,
             "#d8576b"
            ],
            [
             0.6666666666666666,
             "#ed7953"
            ],
            [
             0.7777777777777778,
             "#fb9f3a"
            ],
            [
             0.8888888888888888,
             "#fdca26"
            ],
            [
             1,
             "#f0f921"
            ]
           ]
          },
          "colorway": [
           "#636efa",
           "#EF553B",
           "#00cc96",
           "#ab63fa",
           "#FFA15A",
           "#19d3f3",
           "#FF6692",
           "#B6E880",
           "#FF97FF",
           "#FECB52"
          ],
          "font": {
           "color": "#2a3f5f"
          },
          "geo": {
           "bgcolor": "white",
           "lakecolor": "white",
           "landcolor": "#E5ECF6",
           "showlakes": true,
           "showland": true,
           "subunitcolor": "white"
          },
          "hoverlabel": {
           "align": "left"
          },
          "hovermode": "closest",
          "mapbox": {
           "style": "light"
          },
          "paper_bgcolor": "white",
          "plot_bgcolor": "#E5ECF6",
          "polar": {
           "angularaxis": {
            "gridcolor": "white",
            "linecolor": "white",
            "ticks": ""
           },
           "bgcolor": "#E5ECF6",
           "radialaxis": {
            "gridcolor": "white",
            "linecolor": "white",
            "ticks": ""
           }
          },
          "scene": {
           "xaxis": {
            "backgroundcolor": "#E5ECF6",
            "gridcolor": "white",
            "gridwidth": 2,
            "linecolor": "white",
            "showbackground": true,
            "ticks": "",
            "zerolinecolor": "white"
           },
           "yaxis": {
            "backgroundcolor": "#E5ECF6",
            "gridcolor": "white",
            "gridwidth": 2,
            "linecolor": "white",
            "showbackground": true,
            "ticks": "",
            "zerolinecolor": "white"
           },
           "zaxis": {
            "backgroundcolor": "#E5ECF6",
            "gridcolor": "white",
            "gridwidth": 2,
            "linecolor": "white",
            "showbackground": true,
            "ticks": "",
            "zerolinecolor": "white"
           }
          },
          "shapedefaults": {
           "line": {
            "color": "#2a3f5f"
           }
          },
          "ternary": {
           "aaxis": {
            "gridcolor": "white",
            "linecolor": "white",
            "ticks": ""
           },
           "baxis": {
            "gridcolor": "white",
            "linecolor": "white",
            "ticks": ""
           },
           "bgcolor": "#E5ECF6",
           "caxis": {
            "gridcolor": "white",
            "linecolor": "white",
            "ticks": ""
           }
          },
          "title": {
           "x": 0.05
          },
          "xaxis": {
           "automargin": true,
           "gridcolor": "white",
           "linecolor": "white",
           "ticks": "",
           "title": {
            "standoff": 15
           },
           "zerolinecolor": "white",
           "zerolinewidth": 2
          },
          "yaxis": {
           "automargin": true,
           "gridcolor": "white",
           "linecolor": "white",
           "ticks": "",
           "title": {
            "standoff": 15
           },
           "zerolinecolor": "white",
           "zerolinewidth": 2
          }
         }
        },
        "xaxis": {
         "anchor": "y",
         "domain": [
          0,
          1
         ],
         "title": {
          "text": "Time Period End Date"
         }
        },
        "yaxis": {
         "anchor": "x",
         "domain": [
          0,
          1
         ],
         "title": {
          "text": "Value"
         }
        }
       }
      },
      "text/html": [
       "<div>                            <div id=\"5c806255-5cda-4e70-9c3d-5b285abbe4f3\" class=\"plotly-graph-div\" style=\"height:525px; width:100%;\"></div>            <script type=\"text/javascript\">                require([\"plotly\"], function(Plotly) {                    window.PLOTLYENV=window.PLOTLYENV || {};                                    if (document.getElementById(\"5c806255-5cda-4e70-9c3d-5b285abbe4f3\")) {                    Plotly.newPlot(                        \"5c806255-5cda-4e70-9c3d-5b285abbe4f3\",                        [{\"hovertemplate\":\"Indicator=Delayed Medical Care, Last 4 Weeks<br>Time Period End Date=%{x}<br>Value=%{y}<extra></extra>\",\"legendgroup\":\"Delayed Medical Care, Last 4 Weeks\",\"line\":{\"color\":\"#636efa\",\"dash\":\"solid\"},\"marker\":{\"symbol\":\"circle\"},\"mode\":\"lines\",\"name\":\"Delayed Medical Care, Last 4 Weeks\",\"orientation\":\"v\",\"showlegend\":true,\"x\":[\"2020-05-05T00:00:00\",\"2020-05-12T00:00:00\",\"2020-05-19T00:00:00\",\"2020-05-26T00:00:00\",\"2020-06-02T00:00:00\",\"2020-06-09T00:00:00\",\"2020-06-16T00:00:00\",\"2020-06-23T00:00:00\",\"2020-06-30T00:00:00\",\"2020-07-07T00:00:00\",\"2020-07-14T00:00:00\",\"2020-07-21T00:00:00\",\"2020-08-18T00:00:00\",\"2020-08-31T00:00:00\",\"2020-09-14T00:00:00\",\"2020-09-28T00:00:00\",\"2020-10-12T00:00:00\",\"2020-10-26T00:00:00\",\"2020-11-09T00:00:00\",\"2020-11-23T00:00:00\",\"2020-12-07T00:00:00\",\"2020-12-21T00:00:00\",\"2021-01-05T00:00:00\",\"2021-01-18T00:00:00\",\"2021-02-01T00:00:00\",\"2021-02-15T00:00:00\",\"2021-03-01T00:00:00\",\"2021-03-15T00:00:00\",\"2021-03-29T00:00:00\",\"2021-04-13T00:00:00\",\"2021-04-26T00:00:00\",\"2021-05-10T00:00:00\",\"2021-05-24T00:00:00\",\"2021-06-07T00:00:00\",\"2021-06-21T00:00:00\",\"2021-07-05T00:00:00\"],\"xaxis\":\"x\",\"y\":[38.7,41.1,40.7,40.6,41.4,40.3,41.0,41.5,41.5,40.1,40.6,40.1,null,35.0,33.8,32.5,31.3,31.2,31.7,33.3,33.1,35.1,null,31.2,31.3,29.9,27.7,26.8,25.0,null,20.4,19.1,18.1,16.7,16.1,14.6],\"yaxis\":\"y\",\"type\":\"scatter\"},{\"hovertemplate\":\"Indicator=Did Not Get Needed Care, Last 4 Weeks<br>Time Period End Date=%{x}<br>Value=%{y}<extra></extra>\",\"legendgroup\":\"Did Not Get Needed Care, Last 4 Weeks\",\"line\":{\"color\":\"#EF553B\",\"dash\":\"solid\"},\"marker\":{\"symbol\":\"circle\"},\"mode\":\"lines\",\"name\":\"Did Not Get Needed Care, Last 4 Weeks\",\"orientation\":\"v\",\"showlegend\":true,\"x\":[\"2020-05-05T00:00:00\",\"2020-05-12T00:00:00\",\"2020-05-19T00:00:00\",\"2020-05-26T00:00:00\",\"2020-06-02T00:00:00\",\"2020-06-09T00:00:00\",\"2020-06-16T00:00:00\",\"2020-06-23T00:00:00\",\"2020-06-30T00:00:00\",\"2020-07-07T00:00:00\",\"2020-07-14T00:00:00\",\"2020-07-21T00:00:00\",\"2020-08-18T00:00:00\",\"2020-08-31T00:00:00\",\"2020-09-14T00:00:00\",\"2020-09-28T00:00:00\",\"2020-10-12T00:00:00\",\"2020-10-26T00:00:00\",\"2020-11-09T00:00:00\",\"2020-11-23T00:00:00\",\"2020-12-07T00:00:00\",\"2020-12-21T00:00:00\",\"2021-01-05T00:00:00\",\"2021-01-18T00:00:00\",\"2021-02-01T00:00:00\",\"2021-02-15T00:00:00\",\"2021-03-01T00:00:00\",\"2021-03-15T00:00:00\",\"2021-03-29T00:00:00\",\"2021-04-26T00:00:00\",\"2021-05-10T00:00:00\",\"2021-05-24T00:00:00\",\"2021-06-07T00:00:00\",\"2021-06-21T00:00:00\",\"2021-07-05T00:00:00\"],\"xaxis\":\"x\",\"y\":[31.7,33.5,32.8,32.9,33.0,32.4,32.2,32.7,32.4,32.3,32.5,31.8,null,25.5,24.7,23.8,23.5,23.5,24.2,24.0,25.2,26.6,null,23.4,23.7,22.4,21.3,19.9,19.3,16.4,15.0,14.6,13.7,13.3,12.9],\"yaxis\":\"y\",\"type\":\"scatter\"},{\"hovertemplate\":\"Indicator=Delayed or Did Not Get Care, Last 4 Weeks<br>Time Period End Date=%{x}<br>Value=%{y}<extra></extra>\",\"legendgroup\":\"Delayed or Did Not Get Care, Last 4 Weeks\",\"line\":{\"color\":\"#00cc96\",\"dash\":\"solid\"},\"marker\":{\"symbol\":\"circle\"},\"mode\":\"lines\",\"name\":\"Delayed or Did Not Get Care, Last 4 Weeks\",\"orientation\":\"v\",\"showlegend\":true,\"x\":[\"2020-05-05T00:00:00\",\"2020-05-12T00:00:00\",\"2020-05-19T00:00:00\",\"2020-05-26T00:00:00\",\"2020-06-02T00:00:00\",\"2020-06-09T00:00:00\",\"2020-06-16T00:00:00\",\"2020-06-23T00:00:00\",\"2020-06-30T00:00:00\",\"2020-07-07T00:00:00\",\"2020-07-14T00:00:00\",\"2020-07-21T00:00:00\",\"2020-08-18T00:00:00\",\"2020-08-31T00:00:00\",\"2020-09-14T00:00:00\",\"2020-09-28T00:00:00\",\"2020-10-12T00:00:00\",\"2020-10-26T00:00:00\",\"2020-11-09T00:00:00\",\"2020-11-23T00:00:00\",\"2020-12-07T00:00:00\",\"2020-12-21T00:00:00\",\"2021-01-05T00:00:00\",\"2021-01-18T00:00:00\",\"2021-02-01T00:00:00\",\"2021-02-15T00:00:00\",\"2021-03-01T00:00:00\",\"2021-03-15T00:00:00\",\"2021-03-29T00:00:00\",\"2021-04-13T00:00:00\",\"2021-04-26T00:00:00\",\"2021-05-10T00:00:00\",\"2021-05-24T00:00:00\",\"2021-06-07T00:00:00\",\"2021-06-21T00:00:00\",\"2021-07-05T00:00:00\"],\"xaxis\":\"x\",\"y\":[43.7,45.5,44.8,44.9,45.5,44.5,44.9,45.5,45.7,44.5,45.1,44.4,null,39.1,37.7,36.4,35.4,35.2,36.0,37.0,37.1,39.5,null,35.3,35.6,34.1,31.8,30.6,28.9,null,24.0,22.5,21.5,20.2,19.5,18.6],\"yaxis\":\"y\",\"type\":\"scatter\"}],                        {\"template\":{\"data\":{\"bar\":[{\"error_x\":{\"color\":\"#2a3f5f\"},\"error_y\":{\"color\":\"#2a3f5f\"},\"marker\":{\"line\":{\"color\":\"#E5ECF6\",\"width\":0.5},\"pattern\":{\"fillmode\":\"overlay\",\"size\":10,\"solidity\":0.2}},\"type\":\"bar\"}],\"barpolar\":[{\"marker\":{\"line\":{\"color\":\"#E5ECF6\",\"width\":0.5},\"pattern\":{\"fillmode\":\"overlay\",\"size\":10,\"solidity\":0.2}},\"type\":\"barpolar\"}],\"carpet\":[{\"aaxis\":{\"endlinecolor\":\"#2a3f5f\",\"gridcolor\":\"white\",\"linecolor\":\"white\",\"minorgridcolor\":\"white\",\"startlinecolor\":\"#2a3f5f\"},\"baxis\":{\"endlinecolor\":\"#2a3f5f\",\"gridcolor\":\"white\",\"linecolor\":\"white\",\"minorgridcolor\":\"white\",\"startlinecolor\":\"#2a3f5f\"},\"type\":\"carpet\"}],\"choropleth\":[{\"colorbar\":{\"outlinewidth\":0,\"ticks\":\"\"},\"type\":\"choropleth\"}],\"contour\":[{\"colorbar\":{\"outlinewidth\":0,\"ticks\":\"\"},\"colorscale\":[[0.0,\"#0d0887\"],[0.1111111111111111,\"#46039f\"],[0.2222222222222222,\"#7201a8\"],[0.3333333333333333,\"#9c179e\"],[0.4444444444444444,\"#bd3786\"],[0.5555555555555556,\"#d8576b\"],[0.6666666666666666,\"#ed7953\"],[0.7777777777777778,\"#fb9f3a\"],[0.8888888888888888,\"#fdca26\"],[1.0,\"#f0f921\"]],\"type\":\"contour\"}],\"contourcarpet\":[{\"colorbar\":{\"outlinewidth\":0,\"ticks\":\"\"},\"type\":\"contourcarpet\"}],\"heatmap\":[{\"colorbar\":{\"outlinewidth\":0,\"ticks\":\"\"},\"colorscale\":[[0.0,\"#0d0887\"],[0.1111111111111111,\"#46039f\"],[0.2222222222222222,\"#7201a8\"],[0.3333333333333333,\"#9c179e\"],[0.4444444444444444,\"#bd3786\"],[0.5555555555555556,\"#d8576b\"],[0.6666666666666666,\"#ed7953\"],[0.7777777777777778,\"#fb9f3a\"],[0.8888888888888888,\"#fdca26\"],[1.0,\"#f0f921\"]],\"type\":\"heatmap\"}],\"heatmapgl\":[{\"colorbar\":{\"outlinewidth\":0,\"ticks\":\"\"},\"colorscale\":[[0.0,\"#0d0887\"],[0.1111111111111111,\"#46039f\"],[0.2222222222222222,\"#7201a8\"],[0.3333333333333333,\"#9c179e\"],[0.4444444444444444,\"#bd3786\"],[0.5555555555555556,\"#d8576b\"],[0.6666666666666666,\"#ed7953\"],[0.7777777777777778,\"#fb9f3a\"],[0.8888888888888888,\"#fdca26\"],[1.0,\"#f0f921\"]],\"type\":\"heatmapgl\"}],\"histogram\":[{\"marker\":{\"pattern\":{\"fillmode\":\"overlay\",\"size\":10,\"solidity\":0.2}},\"type\":\"histogram\"}],\"histogram2d\":[{\"colorbar\":{\"outlinewidth\":0,\"ticks\":\"\"},\"colorscale\":[[0.0,\"#0d0887\"],[0.1111111111111111,\"#46039f\"],[0.2222222222222222,\"#7201a8\"],[0.3333333333333333,\"#9c179e\"],[0.4444444444444444,\"#bd3786\"],[0.5555555555555556,\"#d8576b\"],[0.6666666666666666,\"#ed7953\"],[0.7777777777777778,\"#fb9f3a\"],[0.8888888888888888,\"#fdca26\"],[1.0,\"#f0f921\"]],\"type\":\"histogram2d\"}],\"histogram2dcontour\":[{\"colorbar\":{\"outlinewidth\":0,\"ticks\":\"\"},\"colorscale\":[[0.0,\"#0d0887\"],[0.1111111111111111,\"#46039f\"],[0.2222222222222222,\"#7201a8\"],[0.3333333333333333,\"#9c179e\"],[0.4444444444444444,\"#bd3786\"],[0.5555555555555556,\"#d8576b\"],[0.6666666666666666,\"#ed7953\"],[0.7777777777777778,\"#fb9f3a\"],[0.8888888888888888,\"#fdca26\"],[1.0,\"#f0f921\"]],\"type\":\"histogram2dcontour\"}],\"mesh3d\":[{\"colorbar\":{\"outlinewidth\":0,\"ticks\":\"\"},\"type\":\"mesh3d\"}],\"parcoords\":[{\"line\":{\"colorbar\":{\"outlinewidth\":0,\"ticks\":\"\"}},\"type\":\"parcoords\"}],\"pie\":[{\"automargin\":true,\"type\":\"pie\"}],\"scatter\":[{\"marker\":{\"colorbar\":{\"outlinewidth\":0,\"ticks\":\"\"}},\"type\":\"scatter\"}],\"scatter3d\":[{\"line\":{\"colorbar\":{\"outlinewidth\":0,\"ticks\":\"\"}},\"marker\":{\"colorbar\":{\"outlinewidth\":0,\"ticks\":\"\"}},\"type\":\"scatter3d\"}],\"scattercarpet\":[{\"marker\":{\"colorbar\":{\"outlinewidth\":0,\"ticks\":\"\"}},\"type\":\"scattercarpet\"}],\"scattergeo\":[{\"marker\":{\"colorbar\":{\"outlinewidth\":0,\"ticks\":\"\"}},\"type\":\"scattergeo\"}],\"scattergl\":[{\"marker\":{\"colorbar\":{\"outlinewidth\":0,\"ticks\":\"\"}},\"type\":\"scattergl\"}],\"scattermapbox\":[{\"marker\":{\"colorbar\":{\"outlinewidth\":0,\"ticks\":\"\"}},\"type\":\"scattermapbox\"}],\"scatterpolar\":[{\"marker\":{\"colorbar\":{\"outlinewidth\":0,\"ticks\":\"\"}},\"type\":\"scatterpolar\"}],\"scatterpolargl\":[{\"marker\":{\"colorbar\":{\"outlinewidth\":0,\"ticks\":\"\"}},\"type\":\"scatterpolargl\"}],\"scatterternary\":[{\"marker\":{\"colorbar\":{\"outlinewidth\":0,\"ticks\":\"\"}},\"type\":\"scatterternary\"}],\"surface\":[{\"colorbar\":{\"outlinewidth\":0,\"ticks\":\"\"},\"colorscale\":[[0.0,\"#0d0887\"],[0.1111111111111111,\"#46039f\"],[0.2222222222222222,\"#7201a8\"],[0.3333333333333333,\"#9c179e\"],[0.4444444444444444,\"#bd3786\"],[0.5555555555555556,\"#d8576b\"],[0.6666666666666666,\"#ed7953\"],[0.7777777777777778,\"#fb9f3a\"],[0.8888888888888888,\"#fdca26\"],[1.0,\"#f0f921\"]],\"type\":\"surface\"}],\"table\":[{\"cells\":{\"fill\":{\"color\":\"#EBF0F8\"},\"line\":{\"color\":\"white\"}},\"header\":{\"fill\":{\"color\":\"#C8D4E3\"},\"line\":{\"color\":\"white\"}},\"type\":\"table\"}]},\"layout\":{\"annotationdefaults\":{\"arrowcolor\":\"#2a3f5f\",\"arrowhead\":0,\"arrowwidth\":1},\"autotypenumbers\":\"strict\",\"coloraxis\":{\"colorbar\":{\"outlinewidth\":0,\"ticks\":\"\"}},\"colorscale\":{\"diverging\":[[0,\"#8e0152\"],[0.1,\"#c51b7d\"],[0.2,\"#de77ae\"],[0.3,\"#f1b6da\"],[0.4,\"#fde0ef\"],[0.5,\"#f7f7f7\"],[0.6,\"#e6f5d0\"],[0.7,\"#b8e186\"],[0.8,\"#7fbc41\"],[0.9,\"#4d9221\"],[1,\"#276419\"]],\"sequential\":[[0.0,\"#0d0887\"],[0.1111111111111111,\"#46039f\"],[0.2222222222222222,\"#7201a8\"],[0.3333333333333333,\"#9c179e\"],[0.4444444444444444,\"#bd3786\"],[0.5555555555555556,\"#d8576b\"],[0.6666666666666666,\"#ed7953\"],[0.7777777777777778,\"#fb9f3a\"],[0.8888888888888888,\"#fdca26\"],[1.0,\"#f0f921\"]],\"sequentialminus\":[[0.0,\"#0d0887\"],[0.1111111111111111,\"#46039f\"],[0.2222222222222222,\"#7201a8\"],[0.3333333333333333,\"#9c179e\"],[0.4444444444444444,\"#bd3786\"],[0.5555555555555556,\"#d8576b\"],[0.6666666666666666,\"#ed7953\"],[0.7777777777777778,\"#fb9f3a\"],[0.8888888888888888,\"#fdca26\"],[1.0,\"#f0f921\"]]},\"colorway\":[\"#636efa\",\"#EF553B\",\"#00cc96\",\"#ab63fa\",\"#FFA15A\",\"#19d3f3\",\"#FF6692\",\"#B6E880\",\"#FF97FF\",\"#FECB52\"],\"font\":{\"color\":\"#2a3f5f\"},\"geo\":{\"bgcolor\":\"white\",\"lakecolor\":\"white\",\"landcolor\":\"#E5ECF6\",\"showlakes\":true,\"showland\":true,\"subunitcolor\":\"white\"},\"hoverlabel\":{\"align\":\"left\"},\"hovermode\":\"closest\",\"mapbox\":{\"style\":\"light\"},\"paper_bgcolor\":\"white\",\"plot_bgcolor\":\"#E5ECF6\",\"polar\":{\"angularaxis\":{\"gridcolor\":\"white\",\"linecolor\":\"white\",\"ticks\":\"\"},\"bgcolor\":\"#E5ECF6\",\"radialaxis\":{\"gridcolor\":\"white\",\"linecolor\":\"white\",\"ticks\":\"\"}},\"scene\":{\"xaxis\":{\"backgroundcolor\":\"#E5ECF6\",\"gridcolor\":\"white\",\"gridwidth\":2,\"linecolor\":\"white\",\"showbackground\":true,\"ticks\":\"\",\"zerolinecolor\":\"white\"},\"yaxis\":{\"backgroundcolor\":\"#E5ECF6\",\"gridcolor\":\"white\",\"gridwidth\":2,\"linecolor\":\"white\",\"showbackground\":true,\"ticks\":\"\",\"zerolinecolor\":\"white\"},\"zaxis\":{\"backgroundcolor\":\"#E5ECF6\",\"gridcolor\":\"white\",\"gridwidth\":2,\"linecolor\":\"white\",\"showbackground\":true,\"ticks\":\"\",\"zerolinecolor\":\"white\"}},\"shapedefaults\":{\"line\":{\"color\":\"#2a3f5f\"}},\"ternary\":{\"aaxis\":{\"gridcolor\":\"white\",\"linecolor\":\"white\",\"ticks\":\"\"},\"baxis\":{\"gridcolor\":\"white\",\"linecolor\":\"white\",\"ticks\":\"\"},\"bgcolor\":\"#E5ECF6\",\"caxis\":{\"gridcolor\":\"white\",\"linecolor\":\"white\",\"ticks\":\"\"}},\"title\":{\"x\":0.05},\"xaxis\":{\"automargin\":true,\"gridcolor\":\"white\",\"linecolor\":\"white\",\"ticks\":\"\",\"title\":{\"standoff\":15},\"zerolinecolor\":\"white\",\"zerolinewidth\":2},\"yaxis\":{\"automargin\":true,\"gridcolor\":\"white\",\"linecolor\":\"white\",\"ticks\":\"\",\"title\":{\"standoff\":15},\"zerolinecolor\":\"white\",\"zerolinewidth\":2}}},\"xaxis\":{\"anchor\":\"y\",\"domain\":[0.0,1.0],\"title\":{\"text\":\"Time Period End Date\"}},\"yaxis\":{\"anchor\":\"x\",\"domain\":[0.0,1.0],\"title\":{\"text\":\"Value\"}},\"legend\":{\"title\":{\"text\":\"Indicator\"},\"tracegroupgap\":0},\"margin\":{\"t\":60}},                        {\"responsive\": true}                    ).then(function(){\n",
       "                            \n",
       "var gd = document.getElementById('5c806255-5cda-4e70-9c3d-5b285abbe4f3');\n",
       "var x = new MutationObserver(function (mutations, observer) {{\n",
       "        var display = window.getComputedStyle(gd).display;\n",
       "        if (!display || display === 'none') {{\n",
       "            console.log([gd, 'removed!']);\n",
       "            Plotly.purge(gd);\n",
       "            observer.disconnect();\n",
       "        }}\n",
       "}});\n",
       "\n",
       "// Listen for the removal of the full notebook cells\n",
       "var notebookContainer = gd.closest('#notebook-container');\n",
       "if (notebookContainer) {{\n",
       "    x.observe(notebookContainer, {childList: true});\n",
       "}}\n",
       "\n",
       "// Listen for the clearing of the current output cell\n",
       "var outputEl = gd.closest('.output');\n",
       "if (outputEl) {{\n",
       "    x.observe(outputEl, {childList: true});\n",
       "}}\n",
       "\n",
       "                        })                };                });            </script>        </div>"
      ]
     },
     "metadata": {},
     "output_type": "display_data"
    }
   ],
   "source": [
    "fig = px.line(df_nat, x=\"Time Period End Date\", y=\"Value\", color=\"Indicator\"); \n",
    "fig.show(); "
   ]
  },
  {
   "cell_type": "markdown",
   "id": "ce4c4863",
   "metadata": {},
   "source": [
    "### Time Trend by State (California, Texas, New York, Florida)"
   ]
  },
  {
   "cell_type": "code",
   "execution_count": 71,
   "id": "cfc47a8a",
   "metadata": {},
   "outputs": [],
   "source": [
    "df_state = df.query(\"Group == 'By State'\")\n",
    "df_big_states = df_state[df_state[\"State\"].isin([\"California\", \"Texas\", \"New York\", \"Florida\"])]"
   ]
  },
  {
   "cell_type": "code",
   "execution_count": 72,
   "id": "14640b21",
   "metadata": {},
   "outputs": [
    {
     "data": {
      "image/png": "[encoded data removed]",
      "text/plain": [
       "<Figure size 828.85x576 with 4 Axes>"
      ]
     },
     "metadata": {},
     "output_type": "display_data"
    }
   ],
   "source": [
    "g = sns.FacetGrid(df_big_states, col=\"State\", col_wrap=2, height=4)\n",
    "g.map_dataframe(sns.lineplot, \"Time Period End Date\", \"Value\", \"Indicator\")\n",
    "g.set_axis_labels(\"Date\", \"Percent\")\n",
    "g.add_legend()\n",
    "g.set_xticklabels(rotation = 45);"
   ]
  },
  {
   "cell_type": "markdown",
   "id": "0c4bdeab",
   "metadata": {},
   "source": [
    "### Time Trend by Race, Grid Plot:"
   ]
  },
  {
   "cell_type": "code",
   "execution_count": 79,
   "id": "82fa122a",
   "metadata": {},
   "outputs": [],
   "source": [
    "df_race = df.query(\"Group == 'By Race/Hispanic ethnicity'\")"
   ]
  },
  {
   "cell_type": "code",
   "execution_count": 80,
   "id": "cb438ee4",
   "metadata": {},
   "outputs": [
    {
     "data": {
      "image/png": "[encoded data removed]",
      "text/plain": [
       "<Figure size 828.85x864 with 5 Axes>"
      ]
     },
     "metadata": {},
     "output_type": "display_data"
    }
   ],
   "source": [
    "g = sns.FacetGrid(df_race, col=\"Subgroup\", col_wrap=2, height=4)\n",
    "g.map_dataframe(sns.lineplot, \"Time Period End Date\", \"Value\", \"Indicator\")\n",
    "g.set_axis_labels(\"Date\", \"Percent\")\n",
    "g.add_legend()\n",
    "g.set_xticklabels(rotation = 45);"
   ]
  },
  {
   "cell_type": "markdown",
   "id": "40496562",
   "metadata": {},
   "source": [
    "### Time Trend by Race, One Plot"
   ]
  },
  {
   "cell_type": "code",
   "execution_count": 81,
   "id": "5c9dc9ba",
   "metadata": {},
   "outputs": [],
   "source": [
    "df_affected = df[df[\"Indicator\"] == \"Delayed or Did Not Get Care, Last 4 Weeks\"]"
   ]
  },
  {
   "cell_type": "code",
   "execution_count": 82,
   "id": "771a1e26",
   "metadata": {},
   "outputs": [
    {
     "data": {
      "image/png": "[encoded data removed]",
      "text/plain": [
       "<Figure size 864x432 with 1 Axes>"
      ]
     },
     "metadata": {},
     "output_type": "display_data"
    }
   ],
   "source": [
    "by_race = df_affected.query(\"Group == 'By Race/Hispanic ethnicity' & State == 'United States'\")\n",
    "plt.figure(figsize=(12, 6))\n",
    "sns.lineplot(data=by_race,\n",
    "             x=\"Time Period End Date\", y=\"Value\", hue=\"Subgroup\")\n",
    "plt.title(\"National Trend by Race\").set_fontsize(18);"
   ]
  },
  {
   "cell_type": "code",
   "execution_count": 83,
   "id": "34e4d8d7",
   "metadata": {},
   "outputs": [
    {
     "data": {
      "application/vnd.plotly.v1+json": {
       "config": {
        "plotlyServerURL": "https://plot.ly"
       },
       "data": [
        {
         "hovertemplate": "Subgroup=Hispanic or Latino<br>Time Period End Date=%{x}<br>Value=%{y}<extra></extra>",
         "legendgroup": "Hispanic or Latino",
         "line": {
          "color": "#636efa",
          "dash": "solid"
         },
         "marker": {
          "symbol": "circle"
         },
         "mode": "lines",
         "name": "Hispanic or Latino",
         "orientation": "v",
         "showlegend": true,
         "type": "scatter",
         "x": [
          "2020-05-05T00:00:00",
          "2020-05-12T00:00:00",
          "2020-05-19T00:00:00",
          "2020-05-26T00:00:00",
          "2020-06-02T00:00:00",
          "2020-06-09T00:00:00",
          "2020-06-16T00:00:00",
          "2020-06-23T00:00:00",
          "2020-06-30T00:00:00",
          "2020-07-07T00:00:00",
          "2020-07-14T00:00:00",
          "2020-07-21T00:00:00",
          "2020-08-18T00:00:00",
          "2020-08-31T00:00:00",
          "2020-09-14T00:00:00",
          "2020-09-28T00:00:00",
          "2020-10-12T00:00:00",
          "2020-10-26T00:00:00",
          "2020-11-09T00:00:00",
          "2020-11-23T00:00:00",
          "2020-12-07T00:00:00",
          "2020-12-21T00:00:00",
          "2021-01-05T00:00:00",
          "2021-01-18T00:00:00",
          "2021-02-01T00:00:00",
          "2021-02-15T00:00:00",
          "2021-03-01T00:00:00",
          "2021-03-15T00:00:00",
          "2021-03-29T00:00:00",
          "2021-04-13T00:00:00",
          "2021-04-26T00:00:00",
          "2021-05-10T00:00:00",
          "2021-05-24T00:00:00",
          "2021-06-07T00:00:00",
          "2021-06-21T00:00:00",
          "2021-07-05T00:00:00"
         ],
         "xaxis": "x",
         "y": [
          41.3,
          40.7,
          42.2,
          43.4,
          42.8,
          44.5,
          42.3,
          46.8,
          44.4,
          42.4,
          44.7,
          42.9,
          null,
          42.5,
          40.9,
          40.5,
          40.1,
          39.7,
          44.3,
          44.7,
          42,
          42.9,
          null,
          38.4,
          39.7,
          38.3,
          34.6,
          34.6,
          34.4,
          null,
          30.7,
          27.3,
          28,
          26.8,
          26.5,
          24.2
         ],
         "yaxis": "y"
        },
        {
         "hovertemplate": "Subgroup=Non-Hispanic White, single race<br>Time Period End Date=%{x}<br>Value=%{y}<extra></extra>",
         "legendgroup": "Non-Hispanic White, single race",
         "line": {
          "color": "#EF553B",
          "dash": "solid"
         },
         "marker": {
          "symbol": "circle"
         },
         "mode": "lines",
         "name": "Non-Hispanic White, single race",
         "orientation": "v",
         "showlegend": true,
         "type": "scatter",
         "x": [
          "2020-05-05T00:00:00",
          "2020-05-12T00:00:00",
          "2020-05-19T00:00:00",
          "2020-05-26T00:00:00",
          "2020-06-02T00:00:00",
          "2020-06-09T00:00:00",
          "2020-06-16T00:00:00",
          "2020-06-23T00:00:00",
          "2020-06-30T00:00:00",
          "2020-07-07T00:00:00",
          "2020-07-14T00:00:00",
          "2020-07-21T00:00:00",
          "2020-08-18T00:00:00",
          "2020-08-31T00:00:00",
          "2020-09-14T00:00:00",
          "2020-09-28T00:00:00",
          "2020-10-12T00:00:00",
          "2020-10-26T00:00:00",
          "2020-11-09T00:00:00",
          "2020-11-23T00:00:00",
          "2020-12-07T00:00:00",
          "2020-12-21T00:00:00",
          "2021-01-05T00:00:00",
          "2021-01-18T00:00:00",
          "2021-02-01T00:00:00",
          "2021-02-15T00:00:00",
          "2021-03-01T00:00:00",
          "2021-03-15T00:00:00",
          "2021-03-29T00:00:00",
          "2021-04-13T00:00:00",
          "2021-04-26T00:00:00",
          "2021-05-10T00:00:00",
          "2021-05-24T00:00:00",
          "2021-06-07T00:00:00",
          "2021-06-21T00:00:00",
          "2021-07-05T00:00:00"
         ],
         "xaxis": "x",
         "y": [
          44.6,
          46.4,
          45.8,
          45.8,
          46.4,
          44.5,
          45.7,
          45.5,
          45.9,
          45.2,
          44.4,
          44.4,
          null,
          38.1,
          36.2,
          34.8,
          33.6,
          33.3,
          33.3,
          35.1,
          35.8,
          37.8,
          null,
          34.2,
          34.4,
          32.6,
          30.7,
          28.9,
          26.9,
          null,
          21.8,
          20.5,
          18.8,
          17.5,
          16.8,
          16.3
         ],
         "yaxis": "y"
        },
        {
         "hovertemplate": "Subgroup=Non-Hispanic Black, single race<br>Time Period End Date=%{x}<br>Value=%{y}<extra></extra>",
         "legendgroup": "Non-Hispanic Black, single race",
         "line": {
          "color": "#00cc96",
          "dash": "solid"
         },
         "marker": {
          "symbol": "circle"
         },
         "mode": "lines",
         "name": "Non-Hispanic Black, single race",
         "orientation": "v",
         "showlegend": true,
         "type": "scatter",
         "x": [
          "2020-05-05T00:00:00",
          "2020-05-12T00:00:00",
          "2020-05-19T00:00:00",
          "2020-05-26T00:00:00",
          "2020-06-02T00:00:00",
          "2020-06-09T00:00:00",
          "2020-06-16T00:00:00",
          "2020-06-23T00:00:00",
          "2020-06-30T00:00:00",
          "2020-07-07T00:00:00",
          "2020-07-14T00:00:00",
          "2020-07-21T00:00:00",
          "2020-08-18T00:00:00",
          "2020-08-31T00:00:00",
          "2020-09-14T00:00:00",
          "2020-09-28T00:00:00",
          "2020-10-12T00:00:00",
          "2020-10-26T00:00:00",
          "2020-11-09T00:00:00",
          "2020-11-23T00:00:00",
          "2020-12-07T00:00:00",
          "2020-12-21T00:00:00",
          "2021-01-05T00:00:00",
          "2021-01-18T00:00:00",
          "2021-02-01T00:00:00",
          "2021-02-15T00:00:00",
          "2021-03-01T00:00:00",
          "2021-03-15T00:00:00",
          "2021-03-29T00:00:00",
          "2021-04-13T00:00:00",
          "2021-04-26T00:00:00",
          "2021-05-10T00:00:00",
          "2021-05-24T00:00:00",
          "2021-06-07T00:00:00",
          "2021-06-21T00:00:00",
          "2021-07-05T00:00:00"
         ],
         "xaxis": "x",
         "y": [
          42.5,
          48.7,
          44.7,
          42.7,
          43.3,
          43.8,
          43.5,
          43.8,
          44.2,
          44.6,
          45,
          45.2,
          null,
          40.3,
          38.3,
          36.3,
          35.3,
          36.7,
          36.6,
          37.8,
          36.1,
          40.9,
          null,
          35.3,
          34.4,
          33.1,
          32.4,
          30.8,
          28.5,
          null,
          23.3,
          24.2,
          24.4,
          21.9,
          22.6,
          21.6
         ],
         "yaxis": "y"
        },
        {
         "hovertemplate": "Subgroup=Non-Hispanic Asian, single race<br>Time Period End Date=%{x}<br>Value=%{y}<extra></extra>",
         "legendgroup": "Non-Hispanic Asian, single race",
         "line": {
          "color": "#ab63fa",
          "dash": "solid"
         },
         "marker": {
          "symbol": "circle"
         },
         "mode": "lines",
         "name": "Non-Hispanic Asian, single race",
         "orientation": "v",
         "showlegend": true,
         "type": "scatter",
         "x": [
          "2020-05-05T00:00:00",
          "2020-05-12T00:00:00",
          "2020-05-19T00:00:00",
          "2020-05-26T00:00:00",
          "2020-06-02T00:00:00",
          "2020-06-09T00:00:00",
          "2020-06-16T00:00:00",
          "2020-06-23T00:00:00",
          "2020-06-30T00:00:00",
          "2020-07-07T00:00:00",
          "2020-07-14T00:00:00",
          "2020-07-21T00:00:00",
          "2020-08-18T00:00:00",
          "2020-08-31T00:00:00",
          "2020-09-14T00:00:00",
          "2020-09-28T00:00:00",
          "2020-10-12T00:00:00",
          "2020-10-26T00:00:00",
          "2020-11-09T00:00:00",
          "2020-11-23T00:00:00",
          "2020-12-07T00:00:00",
          "2020-12-21T00:00:00",
          "2021-01-05T00:00:00",
          "2021-01-18T00:00:00",
          "2021-02-01T00:00:00",
          "2021-02-15T00:00:00",
          "2021-03-01T00:00:00",
          "2021-03-15T00:00:00",
          "2021-03-29T00:00:00",
          "2021-04-13T00:00:00",
          "2021-04-26T00:00:00",
          "2021-05-10T00:00:00",
          "2021-05-24T00:00:00",
          "2021-06-07T00:00:00",
          "2021-06-21T00:00:00",
          "2021-07-05T00:00:00"
         ],
         "xaxis": "x",
         "y": [
          37.8,
          37.1,
          36.5,
          38.4,
          41.1,
          37.2,
          40.2,
          40.4,
          40.9,
          37.8,
          46,
          39.7,
          null,
          34.8,
          38.7,
          37.3,
          38.1,
          35.8,
          37.7,
          33.9,
          35.9,
          36.5,
          null,
          34,
          36.3,
          37.3,
          32,
          31.7,
          31.6,
          null,
          29.8,
          24.8,
          25.5,
          22.2,
          23.2,
          20.9
         ],
         "yaxis": "y"
        },
        {
         "hovertemplate": "Subgroup=Non-Hispanic, other races and multiple races<br>Time Period End Date=%{x}<br>Value=%{y}<extra></extra>",
         "legendgroup": "Non-Hispanic, other races and multiple races",
         "line": {
          "color": "#FFA15A",
          "dash": "solid"
         },
         "marker": {
          "symbol": "circle"
         },
         "mode": "lines",
         "name": "Non-Hispanic, other races and multiple races",
         "orientation": "v",
         "showlegend": true,
         "type": "scatter",
         "x": [
          "2020-05-05T00:00:00",
          "2020-05-12T00:00:00",
          "2020-05-19T00:00:00",
          "2020-05-26T00:00:00",
          "2020-06-02T00:00:00",
          "2020-06-09T00:00:00",
          "2020-06-16T00:00:00",
          "2020-06-23T00:00:00",
          "2020-06-30T00:00:00",
          "2020-07-07T00:00:00",
          "2020-07-14T00:00:00",
          "2020-07-21T00:00:00",
          "2020-08-18T00:00:00",
          "2020-08-31T00:00:00",
          "2020-09-14T00:00:00",
          "2020-09-28T00:00:00",
          "2020-10-12T00:00:00",
          "2020-10-26T00:00:00",
          "2020-11-09T00:00:00",
          "2020-11-23T00:00:00",
          "2020-12-07T00:00:00",
          "2020-12-21T00:00:00",
          "2021-01-05T00:00:00",
          "2021-01-18T00:00:00",
          "2021-02-01T00:00:00",
          "2021-02-15T00:00:00",
          "2021-03-01T00:00:00",
          "2021-03-15T00:00:00",
          "2021-03-29T00:00:00",
          "2021-04-13T00:00:00",
          "2021-04-26T00:00:00",
          "2021-05-10T00:00:00",
          "2021-05-24T00:00:00",
          "2021-06-07T00:00:00",
          "2021-06-21T00:00:00",
          "2021-07-05T00:00:00"
         ],
         "xaxis": "x",
         "y": [
          49.2,
          56.2,
          50.6,
          52,
          54.3,
          54.6,
          53.5,
          51.9,
          56.6,
          49.4,
          56.1,
          53.2,
          null,
          44.4,
          45.9,
          44.7,
          44.5,
          45.6,
          44.6,
          40.2,
          45.4,
          52.4,
          null,
          43.4,
          41.5,
          41.6,
          38.4,
          40.7,
          37.7,
          null,
          30.3,
          29.8,
          27.5,
          32,
          25.4,
          25.5
         ],
         "yaxis": "y"
        }
       ],
       "layout": {
        "legend": {
         "title": {
          "text": "Subgroup"
         },
         "tracegroupgap": 0
        },
        "margin": {
         "t": 60
        },
        "template": {
         "data": {
          "bar": [
           {
            "error_x": {
             "color": "#2a3f5f"
            },
            "error_y": {
             "color": "#2a3f5f"
            },
            "marker": {
             "line": {
              "color": "#E5ECF6",
              "width": 0.5
             },
             "pattern": {
              "fillmode": "overlay",
              "size": 10,
              "solidity": 0.2
             }
            },
            "type": "bar"
           }
          ],
          "barpolar": [
           {
            "marker": {
             "line": {
              "color": "#E5ECF6",
              "width": 0.5
             },
             "pattern": {
              "fillmode": "overlay",
              "size": 10,
              "solidity": 0.2
             }
            },
            "type": "barpolar"
           }
          ],
          "carpet": [
           {
            "aaxis": {
             "endlinecolor": "#2a3f5f",
             "gridcolor": "white",
             "linecolor": "white",
             "minorgridcolor": "white",
             "startlinecolor": "#2a3f5f"
            },
            "baxis": {
             "endlinecolor": "#2a3f5f",
             "gridcolor": "white",
             "linecolor": "white",
             "minorgridcolor": "white",
             "startlinecolor": "#2a3f5f"
            },
            "type": "carpet"
           }
          ],
          "choropleth": [
           {
            "colorbar": {
             "outlinewidth": 0,
             "ticks": ""
            },
            "type": "choropleth"
           }
          ],
          "contour": [
           {
            "colorbar": {
             "outlinewidth": 0,
             "ticks": ""
            },
            "colorscale": [
             [
              0,
              "#0d0887"
             ],
             [
              0.1111111111111111,
              "#46039f"
             ],
             [
              0.2222222222222222,
              "#7201a8"
             ],
             [
              0.3333333333333333,
              "#9c179e"
             ],
             [
              0.4444444444444444,
              "#bd3786"
             ],
             [
              0.5555555555555556,
              "#d8576b"
             ],
             [
              0.6666666666666666,
              "#ed7953"
             ],
             [
              0.7777777777777778,
              "#fb9f3a"
             ],
             [
              0.8888888888888888,
              "#fdca26"
             ],
             [
              1,
              "#f0f921"
             ]
            ],
            "type": "contour"
           }
          ],
          "contourcarpet": [
           {
            "colorbar": {
             "outlinewidth": 0,
             "ticks": ""
            },
            "type": "contourcarpet"
           }
          ],
          "heatmap": [
           {
            "colorbar": {
             "outlinewidth": 0,
             "ticks": ""
            },
            "colorscale": [
             [
              0,
              "#0d0887"
             ],
             [
              0.1111111111111111,
              "#46039f"
             ],
             [
              0.2222222222222222,
              "#7201a8"
             ],
             [
              0.3333333333333333,
              "#9c179e"
             ],
             [
              0.4444444444444444,
              "#bd3786"
             ],
             [
              0.5555555555555556,
              "#d8576b"
             ],
             [
              0.6666666666666666,
              "#ed7953"
             ],
             [
              0.7777777777777778,
              "#fb9f3a"
             ],
             [
              0.8888888888888888,
              "#fdca26"
             ],
             [
              1,
              "#f0f921"
             ]
            ],
            "type": "heatmap"
           }
          ],
          "heatmapgl": [
           {
            "colorbar": {
             "outlinewidth": 0,
             "ticks": ""
            },
            "colorscale": [
             [
              0,
              "#0d0887"
             ],
             [
              0.1111111111111111,
              "#46039f"
             ],
             [
              0.2222222222222222,
              "#7201a8"
             ],
             [
              0.3333333333333333,
              "#9c179e"
             ],
             [
              0.4444444444444444,
              "#bd3786"
             ],
             [
              0.5555555555555556,
              "#d8576b"
             ],
             [
              0.6666666666666666,
              "#ed7953"
             ],
             [
              0.7777777777777778,
              "#fb9f3a"
             ],
             [
              0.8888888888888888,
              "#fdca26"
             ],
             [
              1,
              "#f0f921"
             ]
            ],
            "type": "heatmapgl"
           }
          ],
          "histogram": [
           {
            "marker": {
             "pattern": {
              "fillmode": "overlay",
              "size": 10,
              "solidity": 0.2
             }
            },
            "type": "histogram"
           }
          ],
          "histogram2d": [
           {
            "colorbar": {
             "outlinewidth": 0,
             "ticks": ""
            },
            "colorscale": [
             [
              0,
              "#0d0887"
             ],
             [
              0.1111111111111111,
              "#46039f"
             ],
             [
              0.2222222222222222,
              "#7201a8"
             ],
             [
              0.3333333333333333,
              "#9c179e"
             ],
             [
              0.4444444444444444,
              "#bd3786"
             ],
             [
              0.5555555555555556,
              "#d8576b"
             ],
             [
              0.6666666666666666,
              "#ed7953"
             ],
             [
              0.7777777777777778,
              "#fb9f3a"
             ],
             [
              0.8888888888888888,
              "#fdca26"
             ],
             [
              1,
              "#f0f921"
             ]
            ],
            "type": "histogram2d"
           }
          ],
          "histogram2dcontour": [
           {
            "colorbar": {
             "outlinewidth": 0,
             "ticks": ""
            },
            "colorscale": [
             [
              0,
              "#0d0887"
             ],
             [
              0.1111111111111111,
              "#46039f"
             ],
             [
              0.2222222222222222,
              "#7201a8"
             ],
             [
              0.3333333333333333,
              "#9c179e"
             ],
             [
              0.4444444444444444,
              "#bd3786"
             ],
             [
              0.5555555555555556,
              "#d8576b"
             ],
             [
              0.6666666666666666,
              "#ed7953"
             ],
             [
              0.7777777777777778,
              "#fb9f3a"
             ],
             [
              0.8888888888888888,
              "#fdca26"
             ],
             [
              1,
              "#f0f921"
             ]
            ],
            "type": "histogram2dcontour"
           }
          ],
          "mesh3d": [
           {
            "colorbar": {
             "outlinewidth": 0,
             "ticks": ""
            },
            "type": "mesh3d"
           }
          ],
          "parcoords": [
           {
            "line": {
             "colorbar": {
              "outlinewidth": 0,
              "ticks": ""
             }
            },
            "type": "parcoords"
           }
          ],
          "pie": [
           {
            "automargin": true,
            "type": "pie"
           }
          ],
          "scatter": [
           {
            "marker": {
             "colorbar": {
              "outlinewidth": 0,
              "ticks": ""
             }
            },
            "type": "scatter"
           }
          ],
          "scatter3d": [
           {
            "line": {
             "colorbar": {
              "outlinewidth": 0,
              "ticks": ""
             }
            },
            "marker": {
             "colorbar": {
              "outlinewidth": 0,
              "ticks": ""
             }
            },
            "type": "scatter3d"
           }
          ],
          "scattercarpet": [
           {
            "marker": {
             "colorbar": {
              "outlinewidth": 0,
              "ticks": ""
             }
            },
            "type": "scattercarpet"
           }
          ],
          "scattergeo": [
           {
            "marker": {
             "colorbar": {
              "outlinewidth": 0,
              "ticks": ""
             }
            },
            "type": "scattergeo"
           }
          ],
          "scattergl": [
           {
            "marker": {
             "colorbar": {
              "outlinewidth": 0,
              "ticks": ""
             }
            },
            "type": "scattergl"
           }
          ],
          "scattermapbox": [
           {
            "marker": {
             "colorbar": {
              "outlinewidth": 0,
              "ticks": ""
             }
            },
            "type": "scattermapbox"
           }
          ],
          "scatterpolar": [
           {
            "marker": {
             "colorbar": {
              "outlinewidth": 0,
              "ticks": ""
             }
            },
            "type": "scatterpolar"
           }
          ],
          "scatterpolargl": [
           {
            "marker": {
             "colorbar": {
              "outlinewidth": 0,
              "ticks": ""
             }
            },
            "type": "scatterpolargl"
           }
          ],
          "scatterternary": [
           {
            "marker": {
             "colorbar": {
              "outlinewidth": 0,
              "ticks": ""
             }
            },
            "type": "scatterternary"
           }
          ],
          "surface": [
           {
            "colorbar": {
             "outlinewidth": 0,
             "ticks": ""
            },
            "colorscale": [
             [
              0,
              "#0d0887"
             ],
             [
              0.1111111111111111,
              "#46039f"
             ],
             [
              0.2222222222222222,
              "#7201a8"
             ],
             [
              0.3333333333333333,
              "#9c179e"
             ],
             [
              0.4444444444444444,
              "#bd3786"
             ],
             [
              0.5555555555555556,
              "#d8576b"
             ],
             [
              0.6666666666666666,
              "#ed7953"
             ],
             [
              0.7777777777777778,
              "#fb9f3a"
             ],
             [
              0.8888888888888888,
              "#fdca26"
             ],
             [
              1,
              "#f0f921"
             ]
            ],
            "type": "surface"
           }
          ],
          "table": [
           {
            "cells": {
             "fill": {
              "color": "#EBF0F8"
             },
             "line": {
              "color": "white"
             }
            },
            "header": {
             "fill": {
              "color": "#C8D4E3"
             },
             "line": {
              "color": "white"
             }
            },
            "type": "table"
           }
          ]
         },
         "layout": {
          "annotationdefaults": {
           "arrowcolor": "#2a3f5f",
           "arrowhead": 0,
           "arrowwidth": 1
          },
          "autotypenumbers": "strict",
          "coloraxis": {
           "colorbar": {
            "outlinewidth": 0,
            "ticks": ""
           }
          },
          "colorscale": {
           "diverging": [
            [
             0,
             "#8e0152"
            ],
            [
             0.1,
             "#c51b7d"
            ],
            [
             0.2,
             "#de77ae"
            ],
            [
             0.3,
             "#f1b6da"
            ],
            [
             0.4,
             "#fde0ef"
            ],
            [
             0.5,
             "#f7f7f7"
            ],
            [
             0.6,
             "#e6f5d0"
            ],
            [
             0.7,
             "#b8e186"
            ],
            [
             0.8,
             "#7fbc41"
            ],
            [
             0.9,
             "#4d9221"
            ],
            [
             1,
             "#276419"
            ]
           ],
           "sequential": [
            [
             0,
             "#0d0887"
            ],
            [
             0.1111111111111111,
             "#46039f"
            ],
            [
             0.2222222222222222,
             "#7201a8"
            ],
            [
             0.3333333333333333,
             "#9c179e"
            ],
            [
             0.4444444444444444,
             "#bd3786"
            ],
            [
             0.5555555555555556,
             "#d8576b"
            ],
            [
             0.6666666666666666,
             "#ed7953"
            ],
            [
             0.7777777777777778,
             "#fb9f3a"
            ],
            [
             0.8888888888888888,
             "#fdca26"
            ],
            [
             1,
             "#f0f921"
            ]
           ],
           "sequentialminus": [
            [
             0,
             "#0d0887"
            ],
            [
             0.1111111111111111,
             "#46039f"
            ],
            [
             0.2222222222222222,
             "#7201a8"
            ],
            [
             0.3333333333333333,
             "#9c179e"
            ],
            [
             0.4444444444444444,
             "#bd3786"
            ],
            [
             0.5555555555555556,
             "#d8576b"
            ],
            [
             0.6666666666666666,
             "#ed7953"
            ],
            [
             0.7777777777777778,
             "#fb9f3a"
            ],
            [
             0.8888888888888888,
             "#fdca26"
            ],
            [
             1,
             "#f0f921"
            ]
           ]
          },
          "colorway": [
           "#636efa",
           "#EF553B",
           "#00cc96",
           "#ab63fa",
           "#FFA15A",
           "#19d3f3",
           "#FF6692",
           "#B6E880",
           "#FF97FF",
           "#FECB52"
          ],
          "font": {
           "color": "#2a3f5f"
          },
          "geo": {
           "bgcolor": "white",
           "lakecolor": "white",
           "landcolor": "#E5ECF6",
           "showlakes": true,
           "showland": true,
           "subunitcolor": "white"
          },
          "hoverlabel": {
           "align": "left"
          },
          "hovermode": "closest",
          "mapbox": {
           "style": "light"
          },
          "paper_bgcolor": "white",
          "plot_bgcolor": "#E5ECF6",
          "polar": {
           "angularaxis": {
            "gridcolor": "white",
            "linecolor": "white",
            "ticks": ""
           },
           "bgcolor": "#E5ECF6",
           "radialaxis": {
            "gridcolor": "white",
            "linecolor": "white",
            "ticks": ""
           }
          },
          "scene": {
           "xaxis": {
            "backgroundcolor": "#E5ECF6",
            "gridcolor": "white",
            "gridwidth": 2,
            "linecolor": "white",
            "showbackground": true,
            "ticks": "",
            "zerolinecolor": "white"
           },
           "yaxis": {
            "backgroundcolor": "#E5ECF6",
            "gridcolor": "white",
            "gridwidth": 2,
            "linecolor": "white",
            "showbackground": true,
            "ticks": "",
            "zerolinecolor": "white"
           },
           "zaxis": {
            "backgroundcolor": "#E5ECF6",
            "gridcolor": "white",
            "gridwidth": 2,
            "linecolor": "white",
            "showbackground": true,
            "ticks": "",
            "zerolinecolor": "white"
           }
          },
          "shapedefaults": {
           "line": {
            "color": "#2a3f5f"
           }
          },
          "ternary": {
           "aaxis": {
            "gridcolor": "white",
            "linecolor": "white",
            "ticks": ""
           },
           "baxis": {
            "gridcolor": "white",
            "linecolor": "white",
            "ticks": ""
           },
           "bgcolor": "#E5ECF6",
           "caxis": {
            "gridcolor": "white",
            "linecolor": "white",
            "ticks": ""
           }
          },
          "title": {
           "x": 0.05
          },
          "xaxis": {
           "automargin": true,
           "gridcolor": "white",
           "linecolor": "white",
           "ticks": "",
           "title": {
            "standoff": 15
           },
           "zerolinecolor": "white",
           "zerolinewidth": 2
          },
          "yaxis": {
           "automargin": true,
           "gridcolor": "white",
           "linecolor": "white",
           "ticks": "",
           "title": {
            "standoff": 15
           },
           "zerolinecolor": "white",
           "zerolinewidth": 2
          }
         }
        },
        "xaxis": {
         "anchor": "y",
         "domain": [
          0,
          1
         ],
         "title": {
          "text": "Time Period End Date"
         }
        },
        "yaxis": {
         "anchor": "x",
         "domain": [
          0,
          1
         ],
         "title": {
          "text": "Value"
         }
        }
       }
      },
      "text/html": [
       "<div>                            <div id=\"6b57ce3b-8053-4154-ada3-4da3627f17d8\" class=\"plotly-graph-div\" style=\"height:525px; width:100%;\"></div>            <script type=\"text/javascript\">                require([\"plotly\"], function(Plotly) {                    window.PLOTLYENV=window.PLOTLYENV || {};                                    if (document.getElementById(\"6b57ce3b-8053-4154-ada3-4da3627f17d8\")) {                    Plotly.newPlot(                        \"6b57ce3b-8053-4154-ada3-4da3627f17d8\",                        [{\"hovertemplate\":\"Subgroup=Hispanic or Latino<br>Time Period End Date=%{x}<br>Value=%{y}<extra></extra>\",\"legendgroup\":\"Hispanic or Latino\",\"line\":{\"color\":\"#636efa\",\"dash\":\"solid\"},\"marker\":{\"symbol\":\"circle\"},\"mode\":\"lines\",\"name\":\"Hispanic or Latino\",\"orientation\":\"v\",\"showlegend\":true,\"x\":[\"2020-05-05T00:00:00\",\"2020-05-12T00:00:00\",\"2020-05-19T00:00:00\",\"2020-05-26T00:00:00\",\"2020-06-02T00:00:00\",\"2020-06-09T00:00:00\",\"2020-06-16T00:00:00\",\"2020-06-23T00:00:00\",\"2020-06-30T00:00:00\",\"2020-07-07T00:00:00\",\"2020-07-14T00:00:00\",\"2020-07-21T00:00:00\",\"2020-08-18T00:00:00\",\"2020-08-31T00:00:00\",\"2020-09-14T00:00:00\",\"2020-09-28T00:00:00\",\"2020-10-12T00:00:00\",\"2020-10-26T00:00:00\",\"2020-11-09T00:00:00\",\"2020-11-23T00:00:00\",\"2020-12-07T00:00:00\",\"2020-12-21T00:00:00\",\"2021-01-05T00:00:00\",\"2021-01-18T00:00:00\",\"2021-02-01T00:00:00\",\"2021-02-15T00:00:00\",\"2021-03-01T00:00:00\",\"2021-03-15T00:00:00\",\"2021-03-29T00:00:00\",\"2021-04-13T00:00:00\",\"2021-04-26T00:00:00\",\"2021-05-10T00:00:00\",\"2021-05-24T00:00:00\",\"2021-06-07T00:00:00\",\"2021-06-21T00:00:00\",\"2021-07-05T00:00:00\"],\"xaxis\":\"x\",\"y\":[41.3,40.7,42.2,43.4,42.8,44.5,42.3,46.8,44.4,42.4,44.7,42.9,null,42.5,40.9,40.5,40.1,39.7,44.3,44.7,42.0,42.9,null,38.4,39.7,38.3,34.6,34.6,34.4,null,30.7,27.3,28.0,26.8,26.5,24.2],\"yaxis\":\"y\",\"type\":\"scatter\"},{\"hovertemplate\":\"Subgroup=Non-Hispanic White, single race<br>Time Period End Date=%{x}<br>Value=%{y}<extra></extra>\",\"legendgroup\":\"Non-Hispanic White, single race\",\"line\":{\"color\":\"#EF553B\",\"dash\":\"solid\"},\"marker\":{\"symbol\":\"circle\"},\"mode\":\"lines\",\"name\":\"Non-Hispanic White, single race\",\"orientation\":\"v\",\"showlegend\":true,\"x\":[\"2020-05-05T00:00:00\",\"2020-05-12T00:00:00\",\"2020-05-19T00:00:00\",\"2020-05-26T00:00:00\",\"2020-06-02T00:00:00\",\"2020-06-09T00:00:00\",\"2020-06-16T00:00:00\",\"2020-06-23T00:00:00\",\"2020-06-30T00:00:00\",\"2020-07-07T00:00:00\",\"2020-07-14T00:00:00\",\"2020-07-21T00:00:00\",\"2020-08-18T00:00:00\",\"2020-08-31T00:00:00\",\"2020-09-14T00:00:00\",\"2020-09-28T00:00:00\",\"2020-10-12T00:00:00\",\"2020-10-26T00:00:00\",\"2020-11-09T00:00:00\",\"2020-11-23T00:00:00\",\"2020-12-07T00:00:00\",\"2020-12-21T00:00:00\",\"2021-01-05T00:00:00\",\"2021-01-18T00:00:00\",\"2021-02-01T00:00:00\",\"2021-02-15T00:00:00\",\"2021-03-01T00:00:00\",\"2021-03-15T00:00:00\",\"2021-03-29T00:00:00\",\"2021-04-13T00:00:00\",\"2021-04-26T00:00:00\",\"2021-05-10T00:00:00\",\"2021-05-24T00:00:00\",\"2021-06-07T00:00:00\",\"2021-06-21T00:00:00\",\"2021-07-05T00:00:00\"],\"xaxis\":\"x\",\"y\":[44.6,46.4,45.8,45.8,46.4,44.5,45.7,45.5,45.9,45.2,44.4,44.4,null,38.1,36.2,34.8,33.6,33.3,33.3,35.1,35.8,37.8,null,34.2,34.4,32.6,30.7,28.9,26.9,null,21.8,20.5,18.8,17.5,16.8,16.3],\"yaxis\":\"y\",\"type\":\"scatter\"},{\"hovertemplate\":\"Subgroup=Non-Hispanic Black, single race<br>Time Period End Date=%{x}<br>Value=%{y}<extra></extra>\",\"legendgroup\":\"Non-Hispanic Black, single race\",\"line\":{\"color\":\"#00cc96\",\"dash\":\"solid\"},\"marker\":{\"symbol\":\"circle\"},\"mode\":\"lines\",\"name\":\"Non-Hispanic Black, single race\",\"orientation\":\"v\",\"showlegend\":true,\"x\":[\"2020-05-05T00:00:00\",\"2020-05-12T00:00:00\",\"2020-05-19T00:00:00\",\"2020-05-26T00:00:00\",\"2020-06-02T00:00:00\",\"2020-06-09T00:00:00\",\"2020-06-16T00:00:00\",\"2020-06-23T00:00:00\",\"2020-06-30T00:00:00\",\"2020-07-07T00:00:00\",\"2020-07-14T00:00:00\",\"2020-07-21T00:00:00\",\"2020-08-18T00:00:00\",\"2020-08-31T00:00:00\",\"2020-09-14T00:00:00\",\"2020-09-28T00:00:00\",\"2020-10-12T00:00:00\",\"2020-10-26T00:00:00\",\"2020-11-09T00:00:00\",\"2020-11-23T00:00:00\",\"2020-12-07T00:00:00\",\"2020-12-21T00:00:00\",\"2021-01-05T00:00:00\",\"2021-01-18T00:00:00\",\"2021-02-01T00:00:00\",\"2021-02-15T00:00:00\",\"2021-03-01T00:00:00\",\"2021-03-15T00:00:00\",\"2021-03-29T00:00:00\",\"2021-04-13T00:00:00\",\"2021-04-26T00:00:00\",\"2021-05-10T00:00:00\",\"2021-05-24T00:00:00\",\"2021-06-07T00:00:00\",\"2021-06-21T00:00:00\",\"2021-07-05T00:00:00\"],\"xaxis\":\"x\",\"y\":[42.5,48.7,44.7,42.7,43.3,43.8,43.5,43.8,44.2,44.6,45.0,45.2,null,40.3,38.3,36.3,35.3,36.7,36.6,37.8,36.1,40.9,null,35.3,34.4,33.1,32.4,30.8,28.5,null,23.3,24.2,24.4,21.9,22.6,21.6],\"yaxis\":\"y\",\"type\":\"scatter\"},{\"hovertemplate\":\"Subgroup=Non-Hispanic Asian, single race<br>Time Period End Date=%{x}<br>Value=%{y}<extra></extra>\",\"legendgroup\":\"Non-Hispanic Asian, single race\",\"line\":{\"color\":\"#ab63fa\",\"dash\":\"solid\"},\"marker\":{\"symbol\":\"circle\"},\"mode\":\"lines\",\"name\":\"Non-Hispanic Asian, single race\",\"orientation\":\"v\",\"showlegend\":true,\"x\":[\"2020-05-05T00:00:00\",\"2020-05-12T00:00:00\",\"2020-05-19T00:00:00\",\"2020-05-26T00:00:00\",\"2020-06-02T00:00:00\",\"2020-06-09T00:00:00\",\"2020-06-16T00:00:00\",\"2020-06-23T00:00:00\",\"2020-06-30T00:00:00\",\"2020-07-07T00:00:00\",\"2020-07-14T00:00:00\",\"2020-07-21T00:00:00\",\"2020-08-18T00:00:00\",\"2020-08-31T00:00:00\",\"2020-09-14T00:00:00\",\"2020-09-28T00:00:00\",\"2020-10-12T00:00:00\",\"2020-10-26T00:00:00\",\"2020-11-09T00:00:00\",\"2020-11-23T00:00:00\",\"2020-12-07T00:00:00\",\"2020-12-21T00:00:00\",\"2021-01-05T00:00:00\",\"2021-01-18T00:00:00\",\"2021-02-01T00:00:00\",\"2021-02-15T00:00:00\",\"2021-03-01T00:00:00\",\"2021-03-15T00:00:00\",\"2021-03-29T00:00:00\",\"2021-04-13T00:00:00\",\"2021-04-26T00:00:00\",\"2021-05-10T00:00:00\",\"2021-05-24T00:00:00\",\"2021-06-07T00:00:00\",\"2021-06-21T00:00:00\",\"2021-07-05T00:00:00\"],\"xaxis\":\"x\",\"y\":[37.8,37.1,36.5,38.4,41.1,37.2,40.2,40.4,40.9,37.8,46.0,39.7,null,34.8,38.7,37.3,38.1,35.8,37.7,33.9,35.9,36.5,null,34.0,36.3,37.3,32.0,31.7,31.6,null,29.8,24.8,25.5,22.2,23.2,20.9],\"yaxis\":\"y\",\"type\":\"scatter\"},{\"hovertemplate\":\"Subgroup=Non-Hispanic, other races and multiple races<br>Time Period End Date=%{x}<br>Value=%{y}<extra></extra>\",\"legendgroup\":\"Non-Hispanic, other races and multiple races\",\"line\":{\"color\":\"#FFA15A\",\"dash\":\"solid\"},\"marker\":{\"symbol\":\"circle\"},\"mode\":\"lines\",\"name\":\"Non-Hispanic, other races and multiple races\",\"orientation\":\"v\",\"showlegend\":true,\"x\":[\"2020-05-05T00:00:00\",\"2020-05-12T00:00:00\",\"2020-05-19T00:00:00\",\"2020-05-26T00:00:00\",\"2020-06-02T00:00:00\",\"2020-06-09T00:00:00\",\"2020-06-16T00:00:00\",\"2020-06-23T00:00:00\",\"2020-06-30T00:00:00\",\"2020-07-07T00:00:00\",\"2020-07-14T00:00:00\",\"2020-07-21T00:00:00\",\"2020-08-18T00:00:00\",\"2020-08-31T00:00:00\",\"2020-09-14T00:00:00\",\"2020-09-28T00:00:00\",\"2020-10-12T00:00:00\",\"2020-10-26T00:00:00\",\"2020-11-09T00:00:00\",\"2020-11-23T00:00:00\",\"2020-12-07T00:00:00\",\"2020-12-21T00:00:00\",\"2021-01-05T00:00:00\",\"2021-01-18T00:00:00\",\"2021-02-01T00:00:00\",\"2021-02-15T00:00:00\",\"2021-03-01T00:00:00\",\"2021-03-15T00:00:00\",\"2021-03-29T00:00:00\",\"2021-04-13T00:00:00\",\"2021-04-26T00:00:00\",\"2021-05-10T00:00:00\",\"2021-05-24T00:00:00\",\"2021-06-07T00:00:00\",\"2021-06-21T00:00:00\",\"2021-07-05T00:00:00\"],\"xaxis\":\"x\",\"y\":[49.2,56.2,50.6,52.0,54.3,54.6,53.5,51.9,56.6,49.4,56.1,53.2,null,44.4,45.9,44.7,44.5,45.6,44.6,40.2,45.4,52.4,null,43.4,41.5,41.6,38.4,40.7,37.7,null,30.3,29.8,27.5,32.0,25.4,25.5],\"yaxis\":\"y\",\"type\":\"scatter\"}],                        {\"template\":{\"data\":{\"bar\":[{\"error_x\":{\"color\":\"#2a3f5f\"},\"error_y\":{\"color\":\"#2a3f5f\"},\"marker\":{\"line\":{\"color\":\"#E5ECF6\",\"width\":0.5},\"pattern\":{\"fillmode\":\"overlay\",\"size\":10,\"solidity\":0.2}},\"type\":\"bar\"}],\"barpolar\":[{\"marker\":{\"line\":{\"color\":\"#E5ECF6\",\"width\":0.5},\"pattern\":{\"fillmode\":\"overlay\",\"size\":10,\"solidity\":0.2}},\"type\":\"barpolar\"}],\"carpet\":[{\"aaxis\":{\"endlinecolor\":\"#2a3f5f\",\"gridcolor\":\"white\",\"linecolor\":\"white\",\"minorgridcolor\":\"white\",\"startlinecolor\":\"#2a3f5f\"},\"baxis\":{\"endlinecolor\":\"#2a3f5f\",\"gridcolor\":\"white\",\"linecolor\":\"white\",\"minorgridcolor\":\"white\",\"startlinecolor\":\"#2a3f5f\"},\"type\":\"carpet\"}],\"choropleth\":[{\"colorbar\":{\"outlinewidth\":0,\"ticks\":\"\"},\"type\":\"choropleth\"}],\"contour\":[{\"colorbar\":{\"outlinewidth\":0,\"ticks\":\"\"},\"colorscale\":[[0.0,\"#0d0887\"],[0.1111111111111111,\"#46039f\"],[0.2222222222222222,\"#7201a8\"],[0.3333333333333333,\"#9c179e\"],[0.4444444444444444,\"#bd3786\"],[0.5555555555555556,\"#d8576b\"],[0.6666666666666666,\"#ed7953\"],[0.7777777777777778,\"#fb9f3a\"],[0.8888888888888888,\"#fdca26\"],[1.0,\"#f0f921\"]],\"type\":\"contour\"}],\"contourcarpet\":[{\"colorbar\":{\"outlinewidth\":0,\"ticks\":\"\"},\"type\":\"contourcarpet\"}],\"heatmap\":[{\"colorbar\":{\"outlinewidth\":0,\"ticks\":\"\"},\"colorscale\":[[0.0,\"#0d0887\"],[0.1111111111111111,\"#46039f\"],[0.2222222222222222,\"#7201a8\"],[0.3333333333333333,\"#9c179e\"],[0.4444444444444444,\"#bd3786\"],[0.5555555555555556,\"#d8576b\"],[0.6666666666666666,\"#ed7953\"],[0.7777777777777778,\"#fb9f3a\"],[0.8888888888888888,\"#fdca26\"],[1.0,\"#f0f921\"]],\"type\":\"heatmap\"}],\"heatmapgl\":[{\"colorbar\":{\"outlinewidth\":0,\"ticks\":\"\"},\"colorscale\":[[0.0,\"#0d0887\"],[0.1111111111111111,\"#46039f\"],[0.2222222222222222,\"#7201a8\"],[0.3333333333333333,\"#9c179e\"],[0.4444444444444444,\"#bd3786\"],[0.5555555555555556,\"#d8576b\"],[0.6666666666666666,\"#ed7953\"],[0.7777777777777778,\"#fb9f3a\"],[0.8888888888888888,\"#fdca26\"],[1.0,\"#f0f921\"]],\"type\":\"heatmapgl\"}],\"histogram\":[{\"marker\":{\"pattern\":{\"fillmode\":\"overlay\",\"size\":10,\"solidity\":0.2}},\"type\":\"histogram\"}],\"histogram2d\":[{\"colorbar\":{\"outlinewidth\":0,\"ticks\":\"\"},\"colorscale\":[[0.0,\"#0d0887\"],[0.1111111111111111,\"#46039f\"],[0.2222222222222222,\"#7201a8\"],[0.3333333333333333,\"#9c179e\"],[0.4444444444444444,\"#bd3786\"],[0.5555555555555556,\"#d8576b\"],[0.6666666666666666,\"#ed7953\"],[0.7777777777777778,\"#fb9f3a\"],[0.8888888888888888,\"#fdca26\"],[1.0,\"#f0f921\"]],\"type\":\"histogram2d\"}],\"histogram2dcontour\":[{\"colorbar\":{\"outlinewidth\":0,\"ticks\":\"\"},\"colorscale\":[[0.0,\"#0d0887\"],[0.1111111111111111,\"#46039f\"],[0.2222222222222222,\"#7201a8\"],[0.3333333333333333,\"#9c179e\"],[0.4444444444444444,\"#bd3786\"],[0.5555555555555556,\"#d8576b\"],[0.6666666666666666,\"#ed7953\"],[0.7777777777777778,\"#fb9f3a\"],[0.8888888888888888,\"#fdca26\"],[1.0,\"#f0f921\"]],\"type\":\"histogram2dcontour\"}],\"mesh3d\":[{\"colorbar\":{\"outlinewidth\":0,\"ticks\":\"\"},\"type\":\"mesh3d\"}],\"parcoords\":[{\"line\":{\"colorbar\":{\"outlinewidth\":0,\"ticks\":\"\"}},\"type\":\"parcoords\"}],\"pie\":[{\"automargin\":true,\"type\":\"pie\"}],\"scatter\":[{\"marker\":{\"colorbar\":{\"outlinewidth\":0,\"ticks\":\"\"}},\"type\":\"scatter\"}],\"scatter3d\":[{\"line\":{\"colorbar\":{\"outlinewidth\":0,\"ticks\":\"\"}},\"marker\":{\"colorbar\":{\"outlinewidth\":0,\"ticks\":\"\"}},\"type\":\"scatter3d\"}],\"scattercarpet\":[{\"marker\":{\"colorbar\":{\"outlinewidth\":0,\"ticks\":\"\"}},\"type\":\"scattercarpet\"}],\"scattergeo\":[{\"marker\":{\"colorbar\":{\"outlinewidth\":0,\"ticks\":\"\"}},\"type\":\"scattergeo\"}],\"scattergl\":[{\"marker\":{\"colorbar\":{\"outlinewidth\":0,\"ticks\":\"\"}},\"type\":\"scattergl\"}],\"scattermapbox\":[{\"marker\":{\"colorbar\":{\"outlinewidth\":0,\"ticks\":\"\"}},\"type\":\"scattermapbox\"}],\"scatterpolar\":[{\"marker\":{\"colorbar\":{\"outlinewidth\":0,\"ticks\":\"\"}},\"type\":\"scatterpolar\"}],\"scatterpolargl\":[{\"marker\":{\"colorbar\":{\"outlinewidth\":0,\"ticks\":\"\"}},\"type\":\"scatterpolargl\"}],\"scatterternary\":[{\"marker\":{\"colorbar\":{\"outlinewidth\":0,\"ticks\":\"\"}},\"type\":\"scatterternary\"}],\"surface\":[{\"colorbar\":{\"outlinewidth\":0,\"ticks\":\"\"},\"colorscale\":[[0.0,\"#0d0887\"],[0.1111111111111111,\"#46039f\"],[0.2222222222222222,\"#7201a8\"],[0.3333333333333333,\"#9c179e\"],[0.4444444444444444,\"#bd3786\"],[0.5555555555555556,\"#d8576b\"],[0.6666666666666666,\"#ed7953\"],[0.7777777777777778,\"#fb9f3a\"],[0.8888888888888888,\"#fdca26\"],[1.0,\"#f0f921\"]],\"type\":\"surface\"}],\"table\":[{\"cells\":{\"fill\":{\"color\":\"#EBF0F8\"},\"line\":{\"color\":\"white\"}},\"header\":{\"fill\":{\"color\":\"#C8D4E3\"},\"line\":{\"color\":\"white\"}},\"type\":\"table\"}]},\"layout\":{\"annotationdefaults\":{\"arrowcolor\":\"#2a3f5f\",\"arrowhead\":0,\"arrowwidth\":1},\"autotypenumbers\":\"strict\",\"coloraxis\":{\"colorbar\":{\"outlinewidth\":0,\"ticks\":\"\"}},\"colorscale\":{\"diverging\":[[0,\"#8e0152\"],[0.1,\"#c51b7d\"],[0.2,\"#de77ae\"],[0.3,\"#f1b6da\"],[0.4,\"#fde0ef\"],[0.5,\"#f7f7f7\"],[0.6,\"#e6f5d0\"],[0.7,\"#b8e186\"],[0.8,\"#7fbc41\"],[0.9,\"#4d9221\"],[1,\"#276419\"]],\"sequential\":[[0.0,\"#0d0887\"],[0.1111111111111111,\"#46039f\"],[0.2222222222222222,\"#7201a8\"],[0.3333333333333333,\"#9c179e\"],[0.4444444444444444,\"#bd3786\"],[0.5555555555555556,\"#d8576b\"],[0.6666666666666666,\"#ed7953\"],[0.7777777777777778,\"#fb9f3a\"],[0.8888888888888888,\"#fdca26\"],[1.0,\"#f0f921\"]],\"sequentialminus\":[[0.0,\"#0d0887\"],[0.1111111111111111,\"#46039f\"],[0.2222222222222222,\"#7201a8\"],[0.3333333333333333,\"#9c179e\"],[0.4444444444444444,\"#bd3786\"],[0.5555555555555556,\"#d8576b\"],[0.6666666666666666,\"#ed7953\"],[0.7777777777777778,\"#fb9f3a\"],[0.8888888888888888,\"#fdca26\"],[1.0,\"#f0f921\"]]},\"colorway\":[\"#636efa\",\"#EF553B\",\"#00cc96\",\"#ab63fa\",\"#FFA15A\",\"#19d3f3\",\"#FF6692\",\"#B6E880\",\"#FF97FF\",\"#FECB52\"],\"font\":{\"color\":\"#2a3f5f\"},\"geo\":{\"bgcolor\":\"white\",\"lakecolor\":\"white\",\"landcolor\":\"#E5ECF6\",\"showlakes\":true,\"showland\":true,\"subunitcolor\":\"white\"},\"hoverlabel\":{\"align\":\"left\"},\"hovermode\":\"closest\",\"mapbox\":{\"style\":\"light\"},\"paper_bgcolor\":\"white\",\"plot_bgcolor\":\"#E5ECF6\",\"polar\":{\"angularaxis\":{\"gridcolor\":\"white\",\"linecolor\":\"white\",\"ticks\":\"\"},\"bgcolor\":\"#E5ECF6\",\"radialaxis\":{\"gridcolor\":\"white\",\"linecolor\":\"white\",\"ticks\":\"\"}},\"scene\":{\"xaxis\":{\"backgroundcolor\":\"#E5ECF6\",\"gridcolor\":\"white\",\"gridwidth\":2,\"linecolor\":\"white\",\"showbackground\":true,\"ticks\":\"\",\"zerolinecolor\":\"white\"},\"yaxis\":{\"backgroundcolor\":\"#E5ECF6\",\"gridcolor\":\"white\",\"gridwidth\":2,\"linecolor\":\"white\",\"showbackground\":true,\"ticks\":\"\",\"zerolinecolor\":\"white\"},\"zaxis\":{\"backgroundcolor\":\"#E5ECF6\",\"gridcolor\":\"white\",\"gridwidth\":2,\"linecolor\":\"white\",\"showbackground\":true,\"ticks\":\"\",\"zerolinecolor\":\"white\"}},\"shapedefaults\":{\"line\":{\"color\":\"#2a3f5f\"}},\"ternary\":{\"aaxis\":{\"gridcolor\":\"white\",\"linecolor\":\"white\",\"ticks\":\"\"},\"baxis\":{\"gridcolor\":\"white\",\"linecolor\":\"white\",\"ticks\":\"\"},\"bgcolor\":\"#E5ECF6\",\"caxis\":{\"gridcolor\":\"white\",\"linecolor\":\"white\",\"ticks\":\"\"}},\"title\":{\"x\":0.05},\"xaxis\":{\"automargin\":true,\"gridcolor\":\"white\",\"linecolor\":\"white\",\"ticks\":\"\",\"title\":{\"standoff\":15},\"zerolinecolor\":\"white\",\"zerolinewidth\":2},\"yaxis\":{\"automargin\":true,\"gridcolor\":\"white\",\"linecolor\":\"white\",\"ticks\":\"\",\"title\":{\"standoff\":15},\"zerolinecolor\":\"white\",\"zerolinewidth\":2}}},\"xaxis\":{\"anchor\":\"y\",\"domain\":[0.0,1.0],\"title\":{\"text\":\"Time Period End Date\"}},\"yaxis\":{\"anchor\":\"x\",\"domain\":[0.0,1.0],\"title\":{\"text\":\"Value\"}},\"legend\":{\"title\":{\"text\":\"Subgroup\"},\"tracegroupgap\":0},\"margin\":{\"t\":60}},                        {\"responsive\": true}                    ).then(function(){\n",
       "                            \n",
       "var gd = document.getElementById('6b57ce3b-8053-4154-ada3-4da3627f17d8');\n",
       "var x = new MutationObserver(function (mutations, observer) {{\n",
       "        var display = window.getComputedStyle(gd).display;\n",
       "        if (!display || display === 'none') {{\n",
       "            console.log([gd, 'removed!']);\n",
       "            Plotly.purge(gd);\n",
       "            observer.disconnect();\n",
       "        }}\n",
       "}});\n",
       "\n",
       "// Listen for the removal of the full notebook cells\n",
       "var notebookContainer = gd.closest('#notebook-container');\n",
       "if (notebookContainer) {{\n",
       "    x.observe(notebookContainer, {childList: true});\n",
       "}}\n",
       "\n",
       "// Listen for the clearing of the current output cell\n",
       "var outputEl = gd.closest('.output');\n",
       "if (outputEl) {{\n",
       "    x.observe(outputEl, {childList: true});\n",
       "}}\n",
       "\n",
       "                        })                };                });            </script>        </div>"
      ]
     },
     "metadata": {},
     "output_type": "display_data"
    }
   ],
   "source": [
    "fig = px.line(by_race, x=\"Time Period End Date\", y=\"Value\", color=\"Subgroup\"); \n",
    "fig.show(); "
   ]
  },
  {
   "cell_type": "code",
   "execution_count": null,
   "id": "7842d4b5",
   "metadata": {},
   "outputs": [],
   "source": []
  }
 ],
 "metadata": {
  "kernelspec": {
   "display_name": "Python 3",
   "language": "python",
   "name": "python3"
  },
  "language_info": {
   "codemirror_mode": {
    "name": "ipython",
    "version": 3
   },
   "file_extension": ".py",
   "mimetype": "text/x-python",
   "name": "python",
   "nbconvert_exporter": "python",
   "pygments_lexer": "ipython3",
   "version": "3.8.8"
  }
 },
 "nbformat": 4,
 "nbformat_minor": 5
}
